{
  "nbformat": 4,
  "nbformat_minor": 0,
  "metadata": {
    "colab": {
      "provenance": [],
      "collapsed_sections": [
        "jwiijriL4rQs",
        "xmOifjhxX8yj",
        "tbxaICBXHKsE"
      ],
      "include_colab_link": true
    },
    "kernelspec": {
      "name": "python3",
      "display_name": "Python 3"
    },
    "language_info": {
      "name": "python"
    }
  },
  "cells": [
    {
      "cell_type": "markdown",
      "metadata": {
        "id": "view-in-github",
        "colab_type": "text"
      },
      "source": [
        "<a href=\"https://colab.research.google.com/github/cicichen57/CIS-5190-project/blob/main/ProjectMilestone3.ipynb\" target=\"_parent\"><img src=\"https://colab.research.google.com/assets/colab-badge.svg\" alt=\"Open In Colab\"/></a>"
      ]
    },
    {
      "cell_type": "code",
      "source": [
        "# import libraries and packages\n",
        "import pandas as pd\n",
        "import numpy as np\n",
        "import datetime as dt\n",
        "import matplotlib.pyplot as plt\n",
        "import math\n",
        "import torch\n",
        "import torch.nn as nn\n",
        "import torch.optim as optim\n",
        "import torch.nn.functional as F\n",
        "from torch.utils.data import Dataset, DataLoader"
      ],
      "metadata": {
        "id": "4x0FxKFfWfNN"
      },
      "execution_count": null,
      "outputs": []
    },
    {
      "cell_type": "code",
      "execution_count": null,
      "metadata": {
        "id": "80lKYNEDWRIQ",
        "colab": {
          "base_uri": "https://localhost:8080/",
          "height": 206
        },
        "outputId": "167f09e3-473f-4f10-cf93-e4ee19367c3d"
      },
      "outputs": [
        {
          "output_type": "execute_result",
          "data": {
            "text/plain": [
              "                  date   HUFL   HULL   MUFL   MULL   LUFL   LULL         OT\n",
              "0  2016-07-01 00:00:00  5.827  2.009  1.599  0.462  4.203  1.340  30.531000\n",
              "1  2016-07-01 01:00:00  5.693  2.076  1.492  0.426  4.142  1.371  27.787001\n",
              "2  2016-07-01 02:00:00  5.157  1.741  1.279  0.355  3.777  1.218  27.787001\n",
              "3  2016-07-01 03:00:00  5.090  1.942  1.279  0.391  3.807  1.279  25.044001\n",
              "4  2016-07-01 04:00:00  5.358  1.942  1.492  0.462  3.868  1.279  21.948000"
            ],
            "text/html": [
              "\n",
              "  <div id=\"df-b735696a-6097-4230-9fef-bf716ba30c22\">\n",
              "    <div class=\"colab-df-container\">\n",
              "      <div>\n",
              "<style scoped>\n",
              "    .dataframe tbody tr th:only-of-type {\n",
              "        vertical-align: middle;\n",
              "    }\n",
              "\n",
              "    .dataframe tbody tr th {\n",
              "        vertical-align: top;\n",
              "    }\n",
              "\n",
              "    .dataframe thead th {\n",
              "        text-align: right;\n",
              "    }\n",
              "</style>\n",
              "<table border=\"1\" class=\"dataframe\">\n",
              "  <thead>\n",
              "    <tr style=\"text-align: right;\">\n",
              "      <th></th>\n",
              "      <th>date</th>\n",
              "      <th>HUFL</th>\n",
              "      <th>HULL</th>\n",
              "      <th>MUFL</th>\n",
              "      <th>MULL</th>\n",
              "      <th>LUFL</th>\n",
              "      <th>LULL</th>\n",
              "      <th>OT</th>\n",
              "    </tr>\n",
              "  </thead>\n",
              "  <tbody>\n",
              "    <tr>\n",
              "      <th>0</th>\n",
              "      <td>2016-07-01 00:00:00</td>\n",
              "      <td>5.827</td>\n",
              "      <td>2.009</td>\n",
              "      <td>1.599</td>\n",
              "      <td>0.462</td>\n",
              "      <td>4.203</td>\n",
              "      <td>1.340</td>\n",
              "      <td>30.531000</td>\n",
              "    </tr>\n",
              "    <tr>\n",
              "      <th>1</th>\n",
              "      <td>2016-07-01 01:00:00</td>\n",
              "      <td>5.693</td>\n",
              "      <td>2.076</td>\n",
              "      <td>1.492</td>\n",
              "      <td>0.426</td>\n",
              "      <td>4.142</td>\n",
              "      <td>1.371</td>\n",
              "      <td>27.787001</td>\n",
              "    </tr>\n",
              "    <tr>\n",
              "      <th>2</th>\n",
              "      <td>2016-07-01 02:00:00</td>\n",
              "      <td>5.157</td>\n",
              "      <td>1.741</td>\n",
              "      <td>1.279</td>\n",
              "      <td>0.355</td>\n",
              "      <td>3.777</td>\n",
              "      <td>1.218</td>\n",
              "      <td>27.787001</td>\n",
              "    </tr>\n",
              "    <tr>\n",
              "      <th>3</th>\n",
              "      <td>2016-07-01 03:00:00</td>\n",
              "      <td>5.090</td>\n",
              "      <td>1.942</td>\n",
              "      <td>1.279</td>\n",
              "      <td>0.391</td>\n",
              "      <td>3.807</td>\n",
              "      <td>1.279</td>\n",
              "      <td>25.044001</td>\n",
              "    </tr>\n",
              "    <tr>\n",
              "      <th>4</th>\n",
              "      <td>2016-07-01 04:00:00</td>\n",
              "      <td>5.358</td>\n",
              "      <td>1.942</td>\n",
              "      <td>1.492</td>\n",
              "      <td>0.462</td>\n",
              "      <td>3.868</td>\n",
              "      <td>1.279</td>\n",
              "      <td>21.948000</td>\n",
              "    </tr>\n",
              "  </tbody>\n",
              "</table>\n",
              "</div>\n",
              "      <button class=\"colab-df-convert\" onclick=\"convertToInteractive('df-b735696a-6097-4230-9fef-bf716ba30c22')\"\n",
              "              title=\"Convert this dataframe to an interactive table.\"\n",
              "              style=\"display:none;\">\n",
              "        \n",
              "  <svg xmlns=\"http://www.w3.org/2000/svg\" height=\"24px\"viewBox=\"0 0 24 24\"\n",
              "       width=\"24px\">\n",
              "    <path d=\"M0 0h24v24H0V0z\" fill=\"none\"/>\n",
              "    <path d=\"M18.56 5.44l.94 2.06.94-2.06 2.06-.94-2.06-.94-.94-2.06-.94 2.06-2.06.94zm-11 1L8.5 8.5l.94-2.06 2.06-.94-2.06-.94L8.5 2.5l-.94 2.06-2.06.94zm10 10l.94 2.06.94-2.06 2.06-.94-2.06-.94-.94-2.06-.94 2.06-2.06.94z\"/><path d=\"M17.41 7.96l-1.37-1.37c-.4-.4-.92-.59-1.43-.59-.52 0-1.04.2-1.43.59L10.3 9.45l-7.72 7.72c-.78.78-.78 2.05 0 2.83L4 21.41c.39.39.9.59 1.41.59.51 0 1.02-.2 1.41-.59l7.78-7.78 2.81-2.81c.8-.78.8-2.07 0-2.86zM5.41 20L4 18.59l7.72-7.72 1.47 1.35L5.41 20z\"/>\n",
              "  </svg>\n",
              "      </button>\n",
              "      \n",
              "  <style>\n",
              "    .colab-df-container {\n",
              "      display:flex;\n",
              "      flex-wrap:wrap;\n",
              "      gap: 12px;\n",
              "    }\n",
              "\n",
              "    .colab-df-convert {\n",
              "      background-color: #E8F0FE;\n",
              "      border: none;\n",
              "      border-radius: 50%;\n",
              "      cursor: pointer;\n",
              "      display: none;\n",
              "      fill: #1967D2;\n",
              "      height: 32px;\n",
              "      padding: 0 0 0 0;\n",
              "      width: 32px;\n",
              "    }\n",
              "\n",
              "    .colab-df-convert:hover {\n",
              "      background-color: #E2EBFA;\n",
              "      box-shadow: 0px 1px 2px rgba(60, 64, 67, 0.3), 0px 1px 3px 1px rgba(60, 64, 67, 0.15);\n",
              "      fill: #174EA6;\n",
              "    }\n",
              "\n",
              "    [theme=dark] .colab-df-convert {\n",
              "      background-color: #3B4455;\n",
              "      fill: #D2E3FC;\n",
              "    }\n",
              "\n",
              "    [theme=dark] .colab-df-convert:hover {\n",
              "      background-color: #434B5C;\n",
              "      box-shadow: 0px 1px 3px 1px rgba(0, 0, 0, 0.15);\n",
              "      filter: drop-shadow(0px 1px 2px rgba(0, 0, 0, 0.3));\n",
              "      fill: #FFFFFF;\n",
              "    }\n",
              "  </style>\n",
              "\n",
              "      <script>\n",
              "        const buttonEl =\n",
              "          document.querySelector('#df-b735696a-6097-4230-9fef-bf716ba30c22 button.colab-df-convert');\n",
              "        buttonEl.style.display =\n",
              "          google.colab.kernel.accessAllowed ? 'block' : 'none';\n",
              "\n",
              "        async function convertToInteractive(key) {\n",
              "          const element = document.querySelector('#df-b735696a-6097-4230-9fef-bf716ba30c22');\n",
              "          const dataTable =\n",
              "            await google.colab.kernel.invokeFunction('convertToInteractive',\n",
              "                                                     [key], {});\n",
              "          if (!dataTable) return;\n",
              "\n",
              "          const docLinkHtml = 'Like what you see? Visit the ' +\n",
              "            '<a target=\"_blank\" href=https://colab.research.google.com/notebooks/data_table.ipynb>data table notebook</a>'\n",
              "            + ' to learn more about interactive tables.';\n",
              "          element.innerHTML = '';\n",
              "          dataTable['output_type'] = 'display_data';\n",
              "          await google.colab.output.renderOutput(dataTable, element);\n",
              "          const docLink = document.createElement('div');\n",
              "          docLink.innerHTML = docLinkHtml;\n",
              "          element.appendChild(docLink);\n",
              "        }\n",
              "      </script>\n",
              "    </div>\n",
              "  </div>\n",
              "  "
            ]
          },
          "metadata": {},
          "execution_count": 3
        }
      ],
      "source": [
        "# import dataset\n",
        "# please download the dataset here: https://github.com/zhouhaoyi/ETDataset/tree/main/ETT-small\n",
        "df = pd.read_csv(\"ETTh1.csv\")\n",
        "df.head()"
      ]
    },
    {
      "cell_type": "code",
      "source": [
        "df.tail()"
      ],
      "metadata": {
        "colab": {
          "base_uri": "https://localhost:8080/",
          "height": 206
        },
        "id": "xjvNDLkhedyp",
        "outputId": "0ce5a68c-cb49-4f1c-f06c-bc2b5593a92d"
      },
      "execution_count": null,
      "outputs": [
        {
          "output_type": "execute_result",
          "data": {
            "text/plain": [
              "                      date    HUFL   HULL   MUFL   MULL   LUFL   LULL      OT\n",
              "17415  2018-06-26 15:00:00  -1.674  3.550 -5.615  2.132  3.472  1.523  10.904\n",
              "17416  2018-06-26 16:00:00  -5.492  4.287 -9.132  2.274  3.533  1.675  11.044\n",
              "17417  2018-06-26 17:00:00   2.813  3.818 -0.817  2.097  3.716  1.523  10.271\n",
              "17418  2018-06-26 18:00:00   9.243  3.818  5.472  2.097  3.655  1.432   9.778\n",
              "17419  2018-06-26 19:00:00  10.114  3.550  6.183  1.564  3.716  1.462   9.567"
            ],
            "text/html": [
              "\n",
              "  <div id=\"df-5aef8228-7625-44b5-bb8c-2513d85d1231\">\n",
              "    <div class=\"colab-df-container\">\n",
              "      <div>\n",
              "<style scoped>\n",
              "    .dataframe tbody tr th:only-of-type {\n",
              "        vertical-align: middle;\n",
              "    }\n",
              "\n",
              "    .dataframe tbody tr th {\n",
              "        vertical-align: top;\n",
              "    }\n",
              "\n",
              "    .dataframe thead th {\n",
              "        text-align: right;\n",
              "    }\n",
              "</style>\n",
              "<table border=\"1\" class=\"dataframe\">\n",
              "  <thead>\n",
              "    <tr style=\"text-align: right;\">\n",
              "      <th></th>\n",
              "      <th>date</th>\n",
              "      <th>HUFL</th>\n",
              "      <th>HULL</th>\n",
              "      <th>MUFL</th>\n",
              "      <th>MULL</th>\n",
              "      <th>LUFL</th>\n",
              "      <th>LULL</th>\n",
              "      <th>OT</th>\n",
              "    </tr>\n",
              "  </thead>\n",
              "  <tbody>\n",
              "    <tr>\n",
              "      <th>17415</th>\n",
              "      <td>2018-06-26 15:00:00</td>\n",
              "      <td>-1.674</td>\n",
              "      <td>3.550</td>\n",
              "      <td>-5.615</td>\n",
              "      <td>2.132</td>\n",
              "      <td>3.472</td>\n",
              "      <td>1.523</td>\n",
              "      <td>10.904</td>\n",
              "    </tr>\n",
              "    <tr>\n",
              "      <th>17416</th>\n",
              "      <td>2018-06-26 16:00:00</td>\n",
              "      <td>-5.492</td>\n",
              "      <td>4.287</td>\n",
              "      <td>-9.132</td>\n",
              "      <td>2.274</td>\n",
              "      <td>3.533</td>\n",
              "      <td>1.675</td>\n",
              "      <td>11.044</td>\n",
              "    </tr>\n",
              "    <tr>\n",
              "      <th>17417</th>\n",
              "      <td>2018-06-26 17:00:00</td>\n",
              "      <td>2.813</td>\n",
              "      <td>3.818</td>\n",
              "      <td>-0.817</td>\n",
              "      <td>2.097</td>\n",
              "      <td>3.716</td>\n",
              "      <td>1.523</td>\n",
              "      <td>10.271</td>\n",
              "    </tr>\n",
              "    <tr>\n",
              "      <th>17418</th>\n",
              "      <td>2018-06-26 18:00:00</td>\n",
              "      <td>9.243</td>\n",
              "      <td>3.818</td>\n",
              "      <td>5.472</td>\n",
              "      <td>2.097</td>\n",
              "      <td>3.655</td>\n",
              "      <td>1.432</td>\n",
              "      <td>9.778</td>\n",
              "    </tr>\n",
              "    <tr>\n",
              "      <th>17419</th>\n",
              "      <td>2018-06-26 19:00:00</td>\n",
              "      <td>10.114</td>\n",
              "      <td>3.550</td>\n",
              "      <td>6.183</td>\n",
              "      <td>1.564</td>\n",
              "      <td>3.716</td>\n",
              "      <td>1.462</td>\n",
              "      <td>9.567</td>\n",
              "    </tr>\n",
              "  </tbody>\n",
              "</table>\n",
              "</div>\n",
              "      <button class=\"colab-df-convert\" onclick=\"convertToInteractive('df-5aef8228-7625-44b5-bb8c-2513d85d1231')\"\n",
              "              title=\"Convert this dataframe to an interactive table.\"\n",
              "              style=\"display:none;\">\n",
              "        \n",
              "  <svg xmlns=\"http://www.w3.org/2000/svg\" height=\"24px\"viewBox=\"0 0 24 24\"\n",
              "       width=\"24px\">\n",
              "    <path d=\"M0 0h24v24H0V0z\" fill=\"none\"/>\n",
              "    <path d=\"M18.56 5.44l.94 2.06.94-2.06 2.06-.94-2.06-.94-.94-2.06-.94 2.06-2.06.94zm-11 1L8.5 8.5l.94-2.06 2.06-.94-2.06-.94L8.5 2.5l-.94 2.06-2.06.94zm10 10l.94 2.06.94-2.06 2.06-.94-2.06-.94-.94-2.06-.94 2.06-2.06.94z\"/><path d=\"M17.41 7.96l-1.37-1.37c-.4-.4-.92-.59-1.43-.59-.52 0-1.04.2-1.43.59L10.3 9.45l-7.72 7.72c-.78.78-.78 2.05 0 2.83L4 21.41c.39.39.9.59 1.41.59.51 0 1.02-.2 1.41-.59l7.78-7.78 2.81-2.81c.8-.78.8-2.07 0-2.86zM5.41 20L4 18.59l7.72-7.72 1.47 1.35L5.41 20z\"/>\n",
              "  </svg>\n",
              "      </button>\n",
              "      \n",
              "  <style>\n",
              "    .colab-df-container {\n",
              "      display:flex;\n",
              "      flex-wrap:wrap;\n",
              "      gap: 12px;\n",
              "    }\n",
              "\n",
              "    .colab-df-convert {\n",
              "      background-color: #E8F0FE;\n",
              "      border: none;\n",
              "      border-radius: 50%;\n",
              "      cursor: pointer;\n",
              "      display: none;\n",
              "      fill: #1967D2;\n",
              "      height: 32px;\n",
              "      padding: 0 0 0 0;\n",
              "      width: 32px;\n",
              "    }\n",
              "\n",
              "    .colab-df-convert:hover {\n",
              "      background-color: #E2EBFA;\n",
              "      box-shadow: 0px 1px 2px rgba(60, 64, 67, 0.3), 0px 1px 3px 1px rgba(60, 64, 67, 0.15);\n",
              "      fill: #174EA6;\n",
              "    }\n",
              "\n",
              "    [theme=dark] .colab-df-convert {\n",
              "      background-color: #3B4455;\n",
              "      fill: #D2E3FC;\n",
              "    }\n",
              "\n",
              "    [theme=dark] .colab-df-convert:hover {\n",
              "      background-color: #434B5C;\n",
              "      box-shadow: 0px 1px 3px 1px rgba(0, 0, 0, 0.15);\n",
              "      filter: drop-shadow(0px 1px 2px rgba(0, 0, 0, 0.3));\n",
              "      fill: #FFFFFF;\n",
              "    }\n",
              "  </style>\n",
              "\n",
              "      <script>\n",
              "        const buttonEl =\n",
              "          document.querySelector('#df-5aef8228-7625-44b5-bb8c-2513d85d1231 button.colab-df-convert');\n",
              "        buttonEl.style.display =\n",
              "          google.colab.kernel.accessAllowed ? 'block' : 'none';\n",
              "\n",
              "        async function convertToInteractive(key) {\n",
              "          const element = document.querySelector('#df-5aef8228-7625-44b5-bb8c-2513d85d1231');\n",
              "          const dataTable =\n",
              "            await google.colab.kernel.invokeFunction('convertToInteractive',\n",
              "                                                     [key], {});\n",
              "          if (!dataTable) return;\n",
              "\n",
              "          const docLinkHtml = 'Like what you see? Visit the ' +\n",
              "            '<a target=\"_blank\" href=https://colab.research.google.com/notebooks/data_table.ipynb>data table notebook</a>'\n",
              "            + ' to learn more about interactive tables.';\n",
              "          element.innerHTML = '';\n",
              "          dataTable['output_type'] = 'display_data';\n",
              "          await google.colab.output.renderOutput(dataTable, element);\n",
              "          const docLink = document.createElement('div');\n",
              "          docLink.innerHTML = docLinkHtml;\n",
              "          element.appendChild(docLink);\n",
              "        }\n",
              "      </script>\n",
              "    </div>\n",
              "  </div>\n",
              "  "
            ]
          },
          "metadata": {},
          "execution_count": 4
        }
      ]
    },
    {
      "cell_type": "code",
      "source": [
        "#Augment Features to use in linear regression\n",
        "df_aug = df.copy()\n",
        "df_aug['HUFL_S'] = df_aug['HUFL']**2\n",
        "df_aug['HULL_S'] = df_aug['HUFL']**2\n",
        "df_aug['MUFL_S'] = df_aug['MUFL']**2\n",
        "df_aug['LUFL_S'] = df_aug['LUFL']**2\n",
        "df_aug['LULL_S'] = df_aug['LULL']**2\n",
        "df_aug"
      ],
      "metadata": {
        "id": "sze1qPsDtsAp",
        "outputId": "d39e99b9-d0bd-418e-ed3f-e74d6ee2c895",
        "colab": {
          "base_uri": "https://localhost:8080/",
          "height": 424
        }
      },
      "execution_count": null,
      "outputs": [
        {
          "output_type": "execute_result",
          "data": {
            "text/plain": [
              "                      date    HUFL   HULL   MUFL   MULL   LUFL   LULL  \\\n",
              "0      2016-07-01 00:00:00   5.827  2.009  1.599  0.462  4.203  1.340   \n",
              "1      2016-07-01 01:00:00   5.693  2.076  1.492  0.426  4.142  1.371   \n",
              "2      2016-07-01 02:00:00   5.157  1.741  1.279  0.355  3.777  1.218   \n",
              "3      2016-07-01 03:00:00   5.090  1.942  1.279  0.391  3.807  1.279   \n",
              "4      2016-07-01 04:00:00   5.358  1.942  1.492  0.462  3.868  1.279   \n",
              "...                    ...     ...    ...    ...    ...    ...    ...   \n",
              "17415  2018-06-26 15:00:00  -1.674  3.550 -5.615  2.132  3.472  1.523   \n",
              "17416  2018-06-26 16:00:00  -5.492  4.287 -9.132  2.274  3.533  1.675   \n",
              "17417  2018-06-26 17:00:00   2.813  3.818 -0.817  2.097  3.716  1.523   \n",
              "17418  2018-06-26 18:00:00   9.243  3.818  5.472  2.097  3.655  1.432   \n",
              "17419  2018-06-26 19:00:00  10.114  3.550  6.183  1.564  3.716  1.462   \n",
              "\n",
              "              OT      HUFL_S      HULL_S     MUFL_S     LUFL_S    LULL_S  \n",
              "0      30.531000   33.953931   33.953931   2.556801  17.665210  1.795600  \n",
              "1      27.787001   32.410247   32.410247   2.226064  17.156166  1.879641  \n",
              "2      27.787001   26.594650   26.594650   1.635841  14.265729  1.483524  \n",
              "3      25.044001   25.908102   25.908102   1.635841  14.493248  1.635841  \n",
              "4      21.948000   28.708162   28.708162   2.226064  14.961424  1.635841  \n",
              "...          ...         ...         ...        ...        ...       ...  \n",
              "17415  10.904000    2.802276    2.802276  31.528222  12.054783  2.319529  \n",
              "17416  11.044000   30.162065   30.162065  83.393423  12.482089  2.805625  \n",
              "17417  10.271000    7.912969    7.912969   0.667489  13.808657  2.319529  \n",
              "17418   9.778000   85.433050   85.433050  29.942785  13.359025  2.050624  \n",
              "17419   9.567000  102.293002  102.293002  38.229490  13.808657  2.137444  \n",
              "\n",
              "[17420 rows x 13 columns]"
            ],
            "text/html": [
              "\n",
              "  <div id=\"df-bc07e725-b90c-4e7a-aad6-d1428d2f0d93\">\n",
              "    <div class=\"colab-df-container\">\n",
              "      <div>\n",
              "<style scoped>\n",
              "    .dataframe tbody tr th:only-of-type {\n",
              "        vertical-align: middle;\n",
              "    }\n",
              "\n",
              "    .dataframe tbody tr th {\n",
              "        vertical-align: top;\n",
              "    }\n",
              "\n",
              "    .dataframe thead th {\n",
              "        text-align: right;\n",
              "    }\n",
              "</style>\n",
              "<table border=\"1\" class=\"dataframe\">\n",
              "  <thead>\n",
              "    <tr style=\"text-align: right;\">\n",
              "      <th></th>\n",
              "      <th>date</th>\n",
              "      <th>HUFL</th>\n",
              "      <th>HULL</th>\n",
              "      <th>MUFL</th>\n",
              "      <th>MULL</th>\n",
              "      <th>LUFL</th>\n",
              "      <th>LULL</th>\n",
              "      <th>OT</th>\n",
              "      <th>HUFL_S</th>\n",
              "      <th>HULL_S</th>\n",
              "      <th>MUFL_S</th>\n",
              "      <th>LUFL_S</th>\n",
              "      <th>LULL_S</th>\n",
              "    </tr>\n",
              "  </thead>\n",
              "  <tbody>\n",
              "    <tr>\n",
              "      <th>0</th>\n",
              "      <td>2016-07-01 00:00:00</td>\n",
              "      <td>5.827</td>\n",
              "      <td>2.009</td>\n",
              "      <td>1.599</td>\n",
              "      <td>0.462</td>\n",
              "      <td>4.203</td>\n",
              "      <td>1.340</td>\n",
              "      <td>30.531000</td>\n",
              "      <td>33.953931</td>\n",
              "      <td>33.953931</td>\n",
              "      <td>2.556801</td>\n",
              "      <td>17.665210</td>\n",
              "      <td>1.795600</td>\n",
              "    </tr>\n",
              "    <tr>\n",
              "      <th>1</th>\n",
              "      <td>2016-07-01 01:00:00</td>\n",
              "      <td>5.693</td>\n",
              "      <td>2.076</td>\n",
              "      <td>1.492</td>\n",
              "      <td>0.426</td>\n",
              "      <td>4.142</td>\n",
              "      <td>1.371</td>\n",
              "      <td>27.787001</td>\n",
              "      <td>32.410247</td>\n",
              "      <td>32.410247</td>\n",
              "      <td>2.226064</td>\n",
              "      <td>17.156166</td>\n",
              "      <td>1.879641</td>\n",
              "    </tr>\n",
              "    <tr>\n",
              "      <th>2</th>\n",
              "      <td>2016-07-01 02:00:00</td>\n",
              "      <td>5.157</td>\n",
              "      <td>1.741</td>\n",
              "      <td>1.279</td>\n",
              "      <td>0.355</td>\n",
              "      <td>3.777</td>\n",
              "      <td>1.218</td>\n",
              "      <td>27.787001</td>\n",
              "      <td>26.594650</td>\n",
              "      <td>26.594650</td>\n",
              "      <td>1.635841</td>\n",
              "      <td>14.265729</td>\n",
              "      <td>1.483524</td>\n",
              "    </tr>\n",
              "    <tr>\n",
              "      <th>3</th>\n",
              "      <td>2016-07-01 03:00:00</td>\n",
              "      <td>5.090</td>\n",
              "      <td>1.942</td>\n",
              "      <td>1.279</td>\n",
              "      <td>0.391</td>\n",
              "      <td>3.807</td>\n",
              "      <td>1.279</td>\n",
              "      <td>25.044001</td>\n",
              "      <td>25.908102</td>\n",
              "      <td>25.908102</td>\n",
              "      <td>1.635841</td>\n",
              "      <td>14.493248</td>\n",
              "      <td>1.635841</td>\n",
              "    </tr>\n",
              "    <tr>\n",
              "      <th>4</th>\n",
              "      <td>2016-07-01 04:00:00</td>\n",
              "      <td>5.358</td>\n",
              "      <td>1.942</td>\n",
              "      <td>1.492</td>\n",
              "      <td>0.462</td>\n",
              "      <td>3.868</td>\n",
              "      <td>1.279</td>\n",
              "      <td>21.948000</td>\n",
              "      <td>28.708162</td>\n",
              "      <td>28.708162</td>\n",
              "      <td>2.226064</td>\n",
              "      <td>14.961424</td>\n",
              "      <td>1.635841</td>\n",
              "    </tr>\n",
              "    <tr>\n",
              "      <th>...</th>\n",
              "      <td>...</td>\n",
              "      <td>...</td>\n",
              "      <td>...</td>\n",
              "      <td>...</td>\n",
              "      <td>...</td>\n",
              "      <td>...</td>\n",
              "      <td>...</td>\n",
              "      <td>...</td>\n",
              "      <td>...</td>\n",
              "      <td>...</td>\n",
              "      <td>...</td>\n",
              "      <td>...</td>\n",
              "      <td>...</td>\n",
              "    </tr>\n",
              "    <tr>\n",
              "      <th>17415</th>\n",
              "      <td>2018-06-26 15:00:00</td>\n",
              "      <td>-1.674</td>\n",
              "      <td>3.550</td>\n",
              "      <td>-5.615</td>\n",
              "      <td>2.132</td>\n",
              "      <td>3.472</td>\n",
              "      <td>1.523</td>\n",
              "      <td>10.904000</td>\n",
              "      <td>2.802276</td>\n",
              "      <td>2.802276</td>\n",
              "      <td>31.528222</td>\n",
              "      <td>12.054783</td>\n",
              "      <td>2.319529</td>\n",
              "    </tr>\n",
              "    <tr>\n",
              "      <th>17416</th>\n",
              "      <td>2018-06-26 16:00:00</td>\n",
              "      <td>-5.492</td>\n",
              "      <td>4.287</td>\n",
              "      <td>-9.132</td>\n",
              "      <td>2.274</td>\n",
              "      <td>3.533</td>\n",
              "      <td>1.675</td>\n",
              "      <td>11.044000</td>\n",
              "      <td>30.162065</td>\n",
              "      <td>30.162065</td>\n",
              "      <td>83.393423</td>\n",
              "      <td>12.482089</td>\n",
              "      <td>2.805625</td>\n",
              "    </tr>\n",
              "    <tr>\n",
              "      <th>17417</th>\n",
              "      <td>2018-06-26 17:00:00</td>\n",
              "      <td>2.813</td>\n",
              "      <td>3.818</td>\n",
              "      <td>-0.817</td>\n",
              "      <td>2.097</td>\n",
              "      <td>3.716</td>\n",
              "      <td>1.523</td>\n",
              "      <td>10.271000</td>\n",
              "      <td>7.912969</td>\n",
              "      <td>7.912969</td>\n",
              "      <td>0.667489</td>\n",
              "      <td>13.808657</td>\n",
              "      <td>2.319529</td>\n",
              "    </tr>\n",
              "    <tr>\n",
              "      <th>17418</th>\n",
              "      <td>2018-06-26 18:00:00</td>\n",
              "      <td>9.243</td>\n",
              "      <td>3.818</td>\n",
              "      <td>5.472</td>\n",
              "      <td>2.097</td>\n",
              "      <td>3.655</td>\n",
              "      <td>1.432</td>\n",
              "      <td>9.778000</td>\n",
              "      <td>85.433050</td>\n",
              "      <td>85.433050</td>\n",
              "      <td>29.942785</td>\n",
              "      <td>13.359025</td>\n",
              "      <td>2.050624</td>\n",
              "    </tr>\n",
              "    <tr>\n",
              "      <th>17419</th>\n",
              "      <td>2018-06-26 19:00:00</td>\n",
              "      <td>10.114</td>\n",
              "      <td>3.550</td>\n",
              "      <td>6.183</td>\n",
              "      <td>1.564</td>\n",
              "      <td>3.716</td>\n",
              "      <td>1.462</td>\n",
              "      <td>9.567000</td>\n",
              "      <td>102.293002</td>\n",
              "      <td>102.293002</td>\n",
              "      <td>38.229490</td>\n",
              "      <td>13.808657</td>\n",
              "      <td>2.137444</td>\n",
              "    </tr>\n",
              "  </tbody>\n",
              "</table>\n",
              "<p>17420 rows × 13 columns</p>\n",
              "</div>\n",
              "      <button class=\"colab-df-convert\" onclick=\"convertToInteractive('df-bc07e725-b90c-4e7a-aad6-d1428d2f0d93')\"\n",
              "              title=\"Convert this dataframe to an interactive table.\"\n",
              "              style=\"display:none;\">\n",
              "        \n",
              "  <svg xmlns=\"http://www.w3.org/2000/svg\" height=\"24px\"viewBox=\"0 0 24 24\"\n",
              "       width=\"24px\">\n",
              "    <path d=\"M0 0h24v24H0V0z\" fill=\"none\"/>\n",
              "    <path d=\"M18.56 5.44l.94 2.06.94-2.06 2.06-.94-2.06-.94-.94-2.06-.94 2.06-2.06.94zm-11 1L8.5 8.5l.94-2.06 2.06-.94-2.06-.94L8.5 2.5l-.94 2.06-2.06.94zm10 10l.94 2.06.94-2.06 2.06-.94-2.06-.94-.94-2.06-.94 2.06-2.06.94z\"/><path d=\"M17.41 7.96l-1.37-1.37c-.4-.4-.92-.59-1.43-.59-.52 0-1.04.2-1.43.59L10.3 9.45l-7.72 7.72c-.78.78-.78 2.05 0 2.83L4 21.41c.39.39.9.59 1.41.59.51 0 1.02-.2 1.41-.59l7.78-7.78 2.81-2.81c.8-.78.8-2.07 0-2.86zM5.41 20L4 18.59l7.72-7.72 1.47 1.35L5.41 20z\"/>\n",
              "  </svg>\n",
              "      </button>\n",
              "      \n",
              "  <style>\n",
              "    .colab-df-container {\n",
              "      display:flex;\n",
              "      flex-wrap:wrap;\n",
              "      gap: 12px;\n",
              "    }\n",
              "\n",
              "    .colab-df-convert {\n",
              "      background-color: #E8F0FE;\n",
              "      border: none;\n",
              "      border-radius: 50%;\n",
              "      cursor: pointer;\n",
              "      display: none;\n",
              "      fill: #1967D2;\n",
              "      height: 32px;\n",
              "      padding: 0 0 0 0;\n",
              "      width: 32px;\n",
              "    }\n",
              "\n",
              "    .colab-df-convert:hover {\n",
              "      background-color: #E2EBFA;\n",
              "      box-shadow: 0px 1px 2px rgba(60, 64, 67, 0.3), 0px 1px 3px 1px rgba(60, 64, 67, 0.15);\n",
              "      fill: #174EA6;\n",
              "    }\n",
              "\n",
              "    [theme=dark] .colab-df-convert {\n",
              "      background-color: #3B4455;\n",
              "      fill: #D2E3FC;\n",
              "    }\n",
              "\n",
              "    [theme=dark] .colab-df-convert:hover {\n",
              "      background-color: #434B5C;\n",
              "      box-shadow: 0px 1px 3px 1px rgba(0, 0, 0, 0.15);\n",
              "      filter: drop-shadow(0px 1px 2px rgba(0, 0, 0, 0.3));\n",
              "      fill: #FFFFFF;\n",
              "    }\n",
              "  </style>\n",
              "\n",
              "      <script>\n",
              "        const buttonEl =\n",
              "          document.querySelector('#df-bc07e725-b90c-4e7a-aad6-d1428d2f0d93 button.colab-df-convert');\n",
              "        buttonEl.style.display =\n",
              "          google.colab.kernel.accessAllowed ? 'block' : 'none';\n",
              "\n",
              "        async function convertToInteractive(key) {\n",
              "          const element = document.querySelector('#df-bc07e725-b90c-4e7a-aad6-d1428d2f0d93');\n",
              "          const dataTable =\n",
              "            await google.colab.kernel.invokeFunction('convertToInteractive',\n",
              "                                                     [key], {});\n",
              "          if (!dataTable) return;\n",
              "\n",
              "          const docLinkHtml = 'Like what you see? Visit the ' +\n",
              "            '<a target=\"_blank\" href=https://colab.research.google.com/notebooks/data_table.ipynb>data table notebook</a>'\n",
              "            + ' to learn more about interactive tables.';\n",
              "          element.innerHTML = '';\n",
              "          dataTable['output_type'] = 'display_data';\n",
              "          await google.colab.output.renderOutput(dataTable, element);\n",
              "          const docLink = document.createElement('div');\n",
              "          docLink.innerHTML = docLinkHtml;\n",
              "          element.appendChild(docLink);\n",
              "        }\n",
              "      </script>\n",
              "    </div>\n",
              "  </div>\n",
              "  "
            ]
          },
          "metadata": {},
          "execution_count": 5
        }
      ]
    },
    {
      "cell_type": "code",
      "source": [
        "len(df)"
      ],
      "metadata": {
        "colab": {
          "base_uri": "https://localhost:8080/"
        },
        "id": "QDFUcUL-eTR3",
        "outputId": "94886d41-a3c2-4f85-e6b1-67a756b155d4"
      },
      "execution_count": null,
      "outputs": [
        {
          "output_type": "execute_result",
          "data": {
            "text/plain": [
              "17420"
            ]
          },
          "metadata": {},
          "execution_count": 6
        }
      ]
    },
    {
      "cell_type": "code",
      "source": [
        "df[\"OT\"].max()"
      ],
      "metadata": {
        "colab": {
          "base_uri": "https://localhost:8080/"
        },
        "id": "D1Xv03pUO3rC",
        "outputId": "87a403af-83c9-4d0a-f528-4653e2b0e9e0"
      },
      "execution_count": null,
      "outputs": [
        {
          "output_type": "execute_result",
          "data": {
            "text/plain": [
              "46.00699996948242"
            ]
          },
          "metadata": {},
          "execution_count": 7
        }
      ]
    },
    {
      "cell_type": "markdown",
      "source": [
        "##DataLoader"
      ],
      "metadata": {
        "id": "1nCKeUiN4WAA"
      }
    },
    {
      "cell_type": "code",
      "source": [
        "from sklearn.preprocessing import StandardScaler\n",
        "from sklearn.preprocessing import MinMaxScaler"
      ],
      "metadata": {
        "id": "FSD3Qnuix17j"
      },
      "execution_count": null,
      "outputs": []
    },
    {
      "cell_type": "code",
      "source": [
        "class Dataset_ETTh1(Dataset):\n",
        "  def __init__(self, data, seq_len=None, label_len=None, gaussian_noise=None): \n",
        "    self.data = data\n",
        "\n",
        "    # Use the data of the first 6 days to predict the OT of the seventh day as default\n",
        "    if seq_len == None:\n",
        "      self.seq_len = 24*6\n",
        "    else:\n",
        "      self.seq_len = seq_len\n",
        "\n",
        "    if label_len == None:     \n",
        "      self.label_len = 24\n",
        "    else:\n",
        "      self.label_len = label_len\n",
        "\n",
        "    # the standard deviation of the noise added to the dataset\n",
        "    if gaussian_noise == None:\n",
        "      self.gaussian_noise = 0\n",
        "    else:\n",
        "      self.gaussian_noise = gaussian_noise\n",
        "\n",
        "  def __len__(self):\n",
        "    return len(self.data) - self.seq_len - self.label_len + 1\n",
        "\n",
        "  def __getitem__(self, idx):\n",
        "    # add random shift to the dataset\n",
        "    noise_X = torch.randn(self.seq_len, self.data.shape[-1]) * self.gaussian_noise\n",
        "    noise_y = torch.randn(self.label_len,) * self.gaussian_noise\n",
        "\n",
        "    X = torch.Tensor(self.data[idx:idx+self.seq_len, :])\n",
        "    y = torch.Tensor(self.data[idx+self.seq_len:idx+self.seq_len+self.label_len, -1]) # Only use row OT as label\n",
        "\n",
        "    assert noise_X.shape == X.shape\n",
        "    assert noise_y.shape == y.shape\n",
        "\n",
        "    X = X + noise_X\n",
        "    y = y + noise_y\n",
        "    return X, y\n"
      ],
      "metadata": {
        "id": "PvVcm-X0fCO7"
      },
      "execution_count": null,
      "outputs": []
    },
    {
      "cell_type": "code",
      "source": [
        "# Split the dataset in the ratio train:val:test = 6:2:2\n",
        "train_idx = int(len(df) * 0.6)\n",
        "val_idx = int(len(df) * 0.8)\n",
        "\n",
        "df_data = df.drop(columns=['date'])\n",
        "\n",
        "train_data = df_data[0:train_idx].values\n",
        "val_data = df_data[train_idx:val_idx].values\n",
        "test_data = df_data[val_idx:].values\n",
        "\n",
        "# Normalize data\n",
        "scaler = MinMaxScaler()\n",
        "scaler.fit(train_data)\n",
        "\n",
        "# Used to inverse_transform the labels back\n",
        "label_scaler = MinMaxScaler()\n",
        "label_scaler.fit(train_data[:,-1].reshape(-1, 1))\n",
        "\n",
        "train_data_scaled = scaler.transform(train_data)\n",
        "val_data_scaled = scaler.transform(val_data)\n",
        "test_data_scaled = scaler.transform(test_data)"
      ],
      "metadata": {
        "id": "V3V09Ft0x9Qg"
      },
      "execution_count": null,
      "outputs": []
    },
    {
      "cell_type": "code",
      "source": [
        "train_set = Dataset_ETTh1(train_data_scaled)\n",
        "val_set = Dataset_ETTh1(val_data_scaled)\n",
        "test_set = Dataset_ETTh1(test_data_scaled)\n",
        "\n",
        "train_dataloader = DataLoader(train_set, batch_size=32, shuffle=True)\n",
        "val_dataloader = DataLoader(val_set, batch_size=32, shuffle=False)\n",
        "test_dataloader = DataLoader(test_set, batch_size=1, shuffle=False)"
      ],
      "metadata": {
        "id": "FkfuUHAK07dK"
      },
      "execution_count": null,
      "outputs": []
    },
    {
      "cell_type": "code",
      "source": [
        "len(train_dataloader)"
      ],
      "metadata": {
        "colab": {
          "base_uri": "https://localhost:8080/"
        },
        "id": "l7k3a4MgKIUH",
        "outputId": "aab5fc15-1a74-4db7-d1d6-11c4ed85cf40"
      },
      "execution_count": null,
      "outputs": [
        {
          "output_type": "execute_result",
          "data": {
            "text/plain": [
              "322"
            ]
          },
          "metadata": {},
          "execution_count": 12
        }
      ]
    },
    {
      "cell_type": "code",
      "source": [
        "# Split the augmented dataset in the ratio train:val:test = 6:2:2\n",
        "train_idx = int(len(df_aug) * 0.6)\n",
        "val_idx = int(len(df_aug) * 0.8)\n",
        "\n",
        "df_aug_data = df_aug.drop(columns=['date'])\n",
        "\n",
        "train_aug_data = df_aug_data[0:train_idx].values\n",
        "val_aug_data = df_aug_data[train_idx:val_idx].values\n",
        "test_aug_data = df_aug_data[val_idx:].values\n",
        "\n",
        "# Normalize data\n",
        "scaler = MinMaxScaler()\n",
        "scaler.fit(train_aug_data)\n",
        "\n",
        "# Used to inverse_transform the labels back\n",
        "label_scaler = MinMaxScaler()\n",
        "label_scaler.fit(train_aug_data[:,-1].reshape(-1, 1))\n",
        "\n",
        "train_aug_data_scaled = scaler.transform(train_aug_data)\n",
        "val_aug_data_scaled = scaler.transform(val_aug_data)\n",
        "test_aug_data_scaled = scaler.transform(test_aug_data)"
      ],
      "metadata": {
        "id": "a-JEyeCmaEuW"
      },
      "execution_count": null,
      "outputs": []
    },
    {
      "cell_type": "code",
      "source": [
        "train_aug_set = Dataset_ETTh1(train_aug_data_scaled)\n",
        "val_aug_set = Dataset_ETTh1(val_aug_data_scaled)\n",
        "test_aug_set = Dataset_ETTh1(test_aug_data_scaled)\n",
        "\n",
        "train_aug_dataloader = DataLoader(train_aug_set, batch_size=32, shuffle=True)\n",
        "val_aug_dataloader = DataLoader(val_aug_set, batch_size=32, shuffle=False)\n",
        "test_aug_dataloader = DataLoader(test_aug_set, batch_size=32, shuffle=False)"
      ],
      "metadata": {
        "id": "h-FKVp7taFh8"
      },
      "execution_count": null,
      "outputs": []
    },
    {
      "cell_type": "code",
      "source": [
        "# The dataloader with noise added\n",
        "train_aug_noise_set = Dataset_ETTh1(train_aug_data_scaled, gaussian_noise=0.05)\n",
        "train_aug_noise_dataloader = DataLoader(train_aug_noise_set, batch_size=32, shuffle=True)"
      ],
      "metadata": {
        "id": "m2iyVohiaYcn"
      },
      "execution_count": null,
      "outputs": []
    },
    {
      "cell_type": "code",
      "source": [
        "len(train_aug_dataloader)"
      ],
      "metadata": {
        "colab": {
          "base_uri": "https://localhost:8080/"
        },
        "id": "Ble6DNQNaqLR",
        "outputId": "fb0b9ed6-16ec-467b-9eba-4928909ac09b"
      },
      "execution_count": null,
      "outputs": [
        {
          "output_type": "execute_result",
          "data": {
            "text/plain": [
              "322"
            ]
          },
          "metadata": {},
          "execution_count": 16
        }
      ]
    },
    {
      "cell_type": "markdown",
      "source": [
        "##Neural Network\n"
      ],
      "metadata": {
        "id": "qk6nD3-O4coW"
      }
    },
    {
      "cell_type": "markdown",
      "source": [
        "###RNN"
      ],
      "metadata": {
        "id": "jwiijriL4rQs"
      }
    },
    {
      "cell_type": "markdown",
      "source": [
        "####Model"
      ],
      "metadata": {
        "id": "gReSfbtRJSRV"
      }
    },
    {
      "cell_type": "code",
      "source": [
        "# Define RNN model\n",
        "class RNN(nn.Module):\n",
        "  def __init__(self, input_size, hidden_size, output_size, num_layers, dropout):\n",
        "    super(RNN, self).__init__()\n",
        "    self.hidden_size = hidden_size\n",
        "    self.num_layers = num_layers\n",
        "    self.rnn = nn.RNN(input_size, hidden_size, num_layers, batch_first=True, dropout=dropout)\n",
        "    self.fc = nn.Linear(hidden_size, output_size)\n",
        "        \n",
        "  def forward(self, x):\n",
        "    h0 = torch.zeros(self.num_layers, x.size(0), self.hidden_size).to(x.device)\n",
        "    _, hidden = self.rnn(x, h0)\n",
        "    out = self.fc(hidden[-1, :, :])\n",
        "    return out"
      ],
      "metadata": {
        "id": "Qf8O3xUQ4vX1"
      },
      "execution_count": null,
      "outputs": []
    },
    {
      "cell_type": "markdown",
      "source": [
        "####Training"
      ],
      "metadata": {
        "id": "__YlMOuNJZtp"
      }
    },
    {
      "cell_type": "code",
      "source": [
        "from torch.nn.utils.rnn import pad_sequence"
      ],
      "metadata": {
        "id": "pEkomxk6__vI"
      },
      "execution_count": null,
      "outputs": []
    },
    {
      "cell_type": "code",
      "source": [
        "def training(model, num_epochs, criterion, optimizer, train_loader, val_loader, log=True):\n",
        "  # Train RNN model\n",
        "  train_loss_list = []\n",
        "  val_loss_list = []\n",
        "  for epoch in range(num_epochs):\n",
        "    running_loss = 0.0\n",
        "    for i, data in enumerate(train_loader):\n",
        "      model.train()\n",
        "      X, y = data\n",
        "      optimizer.zero_grad()\n",
        "      X_padded = pad_sequence(X, batch_first=True)\n",
        "      X_padded = X\n",
        "      y_pred = model(X_padded)\n",
        "      loss = criterion(y_pred, y)\n",
        "      loss.backward()\n",
        "      optimizer.step()\n",
        "      running_loss += loss.item()\n",
        "      if i % 50 == 0:\n",
        "        train_loss_list.append(running_loss / (i+1))\n",
        "\n",
        "        # set model to evaluation mode\n",
        "        model.eval()  \n",
        "        val_loss = 0.0\n",
        "        \n",
        "        with torch.no_grad():\n",
        "          for j, data in enumerate(val_loader):\n",
        "            X, y = data\n",
        "            X_padded = pad_sequence(X, batch_first=True)\n",
        "            y_pred = model(X_padded)\n",
        "            loss = criterion(y_pred, y)\n",
        "            val_loss += loss.item()\n",
        "          val_loss = val_loss / len(val_loader)\n",
        "          val_loss_list.append(val_loss)\n",
        "\n",
        "        if log:\n",
        "          print('Epoch: {}, {} / {}, Training Loss: {:.4f}, Validation Loss: {:.4f}'.format(epoch+1, i, len(train_dataloader), running_loss / (i+1), val_loss))\n",
        "  return train_loss_list, val_loss_list"
      ],
      "metadata": {
        "id": "ZEMqrtR08nW_"
      },
      "execution_count": null,
      "outputs": []
    },
    {
      "cell_type": "markdown",
      "source": [
        "Train Vanilla RNN without data shifting"
      ],
      "metadata": {
        "id": "oGf6031-Xh4w"
      }
    },
    {
      "cell_type": "code",
      "source": [
        "input_size = 7  \n",
        "hidden_size = 64  \n",
        "output_size = 24\n",
        "num_layers = 1\n",
        "dropout = 0"
      ],
      "metadata": {
        "id": "-dNQERotwKY6"
      },
      "execution_count": null,
      "outputs": []
    },
    {
      "cell_type": "code",
      "source": [
        "RNN_model = RNN(input_size, hidden_size, output_size, num_layers, dropout)\n",
        "\n",
        "# Define loss function and optimizer\n",
        "criterion = nn.MSELoss()\n",
        "optimizer = optim.Adam(RNN_model.parameters(), lr=0.0005)\n",
        "num_epochs = 5\n",
        "\n",
        "train_loss_list, val_loss_list = training(RNN_model, num_epochs, criterion, optimizer, train_dataloader, val_dataloader)"
      ],
      "metadata": {
        "colab": {
          "base_uri": "https://localhost:8080/"
        },
        "id": "le03qj5hUITO",
        "outputId": "9a1dfcab-0513-4483-e280-64f62e05a66c"
      },
      "execution_count": null,
      "outputs": [
        {
          "output_type": "stream",
          "name": "stdout",
          "text": [
            "Epoch: 1, 0 / 322, Training Loss: 0.1976, Validation Loss: 0.0677\n",
            "Epoch: 1, 50 / 322, Training Loss: 0.0834, Validation Loss: 0.0447\n",
            "Epoch: 1, 100 / 322, Training Loss: 0.0526, Validation Loss: 0.0464\n",
            "Epoch: 1, 150 / 322, Training Loss: 0.0396, Validation Loss: 0.0145\n",
            "Epoch: 1, 200 / 322, Training Loss: 0.0315, Validation Loss: 0.0049\n",
            "Epoch: 1, 250 / 322, Training Loss: 0.0261, Validation Loss: 0.0033\n",
            "Epoch: 1, 300 / 322, Training Loss: 0.0224, Validation Loss: 0.0023\n",
            "Epoch: 2, 0 / 322, Training Loss: 0.0044, Validation Loss: 0.0052\n",
            "Epoch: 2, 50 / 322, Training Loss: 0.0038, Validation Loss: 0.0025\n",
            "Epoch: 2, 100 / 322, Training Loss: 0.0037, Validation Loss: 0.0025\n",
            "Epoch: 2, 150 / 322, Training Loss: 0.0037, Validation Loss: 0.0032\n",
            "Epoch: 2, 200 / 322, Training Loss: 0.0036, Validation Loss: 0.0026\n",
            "Epoch: 2, 250 / 322, Training Loss: 0.0036, Validation Loss: 0.0029\n",
            "Epoch: 2, 300 / 322, Training Loss: 0.0036, Validation Loss: 0.0028\n",
            "Epoch: 3, 0 / 322, Training Loss: 0.0025, Validation Loss: 0.0031\n",
            "Epoch: 3, 50 / 322, Training Loss: 0.0041, Validation Loss: 0.0051\n",
            "Epoch: 3, 100 / 322, Training Loss: 0.0037, Validation Loss: 0.0034\n",
            "Epoch: 3, 150 / 322, Training Loss: 0.0036, Validation Loss: 0.0021\n",
            "Epoch: 3, 200 / 322, Training Loss: 0.0035, Validation Loss: 0.0022\n",
            "Epoch: 3, 250 / 322, Training Loss: 0.0035, Validation Loss: 0.0042\n",
            "Epoch: 3, 300 / 322, Training Loss: 0.0035, Validation Loss: 0.0023\n",
            "Epoch: 4, 0 / 322, Training Loss: 0.0032, Validation Loss: 0.0021\n",
            "Epoch: 4, 50 / 322, Training Loss: 0.0033, Validation Loss: 0.0028\n",
            "Epoch: 4, 100 / 322, Training Loss: 0.0033, Validation Loss: 0.0028\n",
            "Epoch: 4, 150 / 322, Training Loss: 0.0033, Validation Loss: 0.0031\n",
            "Epoch: 4, 200 / 322, Training Loss: 0.0033, Validation Loss: 0.0035\n",
            "Epoch: 4, 250 / 322, Training Loss: 0.0033, Validation Loss: 0.0031\n",
            "Epoch: 4, 300 / 322, Training Loss: 0.0033, Validation Loss: 0.0021\n",
            "Epoch: 5, 0 / 322, Training Loss: 0.0023, Validation Loss: 0.0035\n",
            "Epoch: 5, 50 / 322, Training Loss: 0.0031, Validation Loss: 0.0021\n",
            "Epoch: 5, 100 / 322, Training Loss: 0.0032, Validation Loss: 0.0026\n",
            "Epoch: 5, 150 / 322, Training Loss: 0.0032, Validation Loss: 0.0033\n",
            "Epoch: 5, 200 / 322, Training Loss: 0.0032, Validation Loss: 0.0036\n",
            "Epoch: 5, 250 / 322, Training Loss: 0.0032, Validation Loss: 0.0020\n",
            "Epoch: 5, 300 / 322, Training Loss: 0.0031, Validation Loss: 0.0036\n"
          ]
        }
      ]
    },
    {
      "cell_type": "markdown",
      "source": [
        "Plotting the loss trending"
      ],
      "metadata": {
        "id": "XEz4dFl5ks0l"
      }
    },
    {
      "cell_type": "code",
      "source": [
        "import matplotlib.pyplot as plt\n",
        "\n",
        "plt.plot(range(len(train_loss_list)), train_loss_list, label=\"training\")\n",
        "plt.plot(range(len(val_loss_list)), val_loss_list, label=\"validating\")\n",
        "\n",
        "plt.xlabel('Timestamp')\n",
        "plt.ylabel('Loss')\n",
        "plt.title('Loss trending')\n",
        "plt.legend(loc=\"upper right\")\n",
        "\n",
        "plt.show()"
      ],
      "metadata": {
        "id": "3P7RiDTyFmh6",
        "colab": {
          "base_uri": "https://localhost:8080/",
          "height": 472
        },
        "outputId": "8e76d6c5-a199-41e0-8ca6-246ede97c1c1"
      },
      "execution_count": null,
      "outputs": [
        {
          "output_type": "display_data",
          "data": {
            "text/plain": [
              "<Figure size 640x480 with 1 Axes>"
            ],
            "image/png": "[encoded data removed]"
          },
          "metadata": {}
        }
      ]
    },
    {
      "cell_type": "markdown",
      "source": [
        "####Testing"
      ],
      "metadata": {
        "id": "UMpMHXK9JjYf"
      }
    },
    {
      "cell_type": "code",
      "source": [
        "def testing(model, criterion, test_loader):\n",
        "  model.eval()  # set model to evaluation mode\n",
        "  test_loss = 0.0\n",
        "  y_pred_list = []\n",
        "  y_gt_list = []\n",
        "  with torch.no_grad():\n",
        "    for x, y in test_loader:\n",
        "      x_padded = pad_sequence(x, batch_first=True)\n",
        "      y_pred = model(x_padded)\n",
        "      loss = criterion(y_pred, y)\n",
        "      test_loss += loss.item()\n",
        "\n",
        "      # y_pred = label_scaler.inverse_transform(y_pred.numpy())\n",
        "      # y = label_scaler.inverse_transform(y.numpy())\n",
        "\n",
        "      y_pred_list.append(y_pred)\n",
        "      y_gt_list.append(y)\n",
        "    test_loss = test_loss / len(test_loader)\n",
        "\n",
        "  print('Test Loss: {:.4f}'.format(test_loss))\n",
        "  return y_pred_list, y_gt_list"
      ],
      "metadata": {
        "id": "9b1iO4Kn3bf5"
      },
      "execution_count": null,
      "outputs": []
    },
    {
      "cell_type": "code",
      "source": [
        "y_pred_list, y_gt_list = testing(RNN_model, criterion, test_dataloader)"
      ],
      "metadata": {
        "colab": {
          "base_uri": "https://localhost:8080/"
        },
        "id": "hYrhf7hoV-Ws",
        "outputId": "114d85d2-99fb-4ab0-c55e-525b2539c65b"
      },
      "execution_count": null,
      "outputs": [
        {
          "output_type": "stream",
          "name": "stdout",
          "text": [
            "Test Loss: 0.0019\n"
          ]
        }
      ]
    },
    {
      "cell_type": "markdown",
      "source": [
        "#### Plotting Samples"
      ],
      "metadata": {
        "id": "GdIcvQRx3ZGN"
      }
    },
    {
      "cell_type": "code",
      "source": [
        "plt.plot(range(24), y_pred_list[0][0], label=\"prediction\")\n",
        "plt.plot(range(24), y_gt_list[0][0], label=\"ground truth\")\n",
        "\n",
        "plt.xlabel('Timestamp')\n",
        "plt.ylabel('Target')\n",
        "plt.ylim([0, 0.3])\n",
        "plt.title('Comparison between prediction and groundtruth')\n",
        "plt.legend(loc=\"upper left\")"
      ],
      "metadata": {
        "id": "LgfjzcWEGmOs",
        "colab": {
          "base_uri": "https://localhost:8080/",
          "height": 490
        },
        "outputId": "2a83fb06-94aa-49ac-b1fb-8f551eb7db04"
      },
      "execution_count": null,
      "outputs": [
        {
          "output_type": "execute_result",
          "data": {
            "text/plain": [
              "<matplotlib.legend.Legend at 0x7fd38671e040>"
            ]
          },
          "metadata": {},
          "execution_count": 23
        },
        {
          "output_type": "display_data",
          "data": {
            "text/plain": [
              "<Figure size 640x480 with 1 Axes>"
            ],
            "image/png": "[encoded data removed]"
          },
          "metadata": {}
        }
      ]
    },
    {
      "cell_type": "markdown",
      "source": [
        "#### Evaluating different hyperparameters"
      ],
      "metadata": {
        "id": "i7ZHVUxX6OmK"
      }
    },
    {
      "cell_type": "markdown",
      "source": [
        "doubling the hidden size"
      ],
      "metadata": {
        "id": "cCPck7s564vd"
      }
    },
    {
      "cell_type": "code",
      "source": [
        "input_size = 7  \n",
        "hidden_size = 128  \n",
        "output_size = 24\n",
        "num_layers = 1 \n",
        "dropout = 0\n",
        "RNN_model= RNN(input_size, hidden_size, output_size, num_layers, dropout)"
      ],
      "metadata": {
        "id": "6BRNowL86UkW"
      },
      "execution_count": null,
      "outputs": []
    },
    {
      "cell_type": "code",
      "source": [
        "criterion = nn.MSELoss()\n",
        "optimizer = optim.Adam(RNN_model.parameters(), lr=0.0005)\n",
        "num_epochs = 5\n",
        "\n",
        "train_loss_list, val_loss_list = training(RNN_model, num_epochs, criterion, optimizer, train_dataloader, val_dataloader, log=False)\n",
        "y_pred_list, y_gt_list = testing(RNN_model, criterion, test_dataloader)"
      ],
      "metadata": {
        "colab": {
          "base_uri": "https://localhost:8080/"
        },
        "id": "fJQ-7IWE6pse",
        "outputId": "1621123b-af57-4214-8572-c483eb506148"
      },
      "execution_count": null,
      "outputs": [
        {
          "output_type": "stream",
          "name": "stdout",
          "text": [
            "Test Loss: 0.0017\n"
          ]
        }
      ]
    },
    {
      "cell_type": "markdown",
      "source": [
        "Multiple layers"
      ],
      "metadata": {
        "id": "EhIhtT3P7DUD"
      }
    },
    {
      "cell_type": "code",
      "source": [
        "input_size = 7  \n",
        "hidden_size = 128  \n",
        "output_size = 24\n",
        "num_layers = 2 \n",
        "dropout = 0\n",
        "RNN_model= RNN(input_size, hidden_size, output_size, num_layers, dropout)"
      ],
      "metadata": {
        "id": "8Z2-BDMv7D-M"
      },
      "execution_count": null,
      "outputs": []
    },
    {
      "cell_type": "code",
      "source": [
        "criterion = nn.MSELoss()\n",
        "optimizer = optim.Adam(RNN_model.parameters(), lr=0.0005)\n",
        "num_epochs = 5\n",
        "\n",
        "train_loss_list, val_loss_list = training(RNN_model, num_epochs, criterion, optimizer, train_dataloader, val_dataloader, log=False)\n",
        "y_pred_list, y_gt_list = testing(RNN_model, criterion, test_dataloader)"
      ],
      "metadata": {
        "colab": {
          "base_uri": "https://localhost:8080/"
        },
        "id": "l_iLsyAT7HBw",
        "outputId": "5222acd5-99f6-4947-c698-d3a1829e35cc"
      },
      "execution_count": null,
      "outputs": [
        {
          "output_type": "stream",
          "name": "stdout",
          "text": [
            "Test Loss: 0.0040\n"
          ]
        }
      ]
    },
    {
      "cell_type": "markdown",
      "source": [
        "Multiple layers with dropout"
      ],
      "metadata": {
        "id": "VjI4KQ1p7I1i"
      }
    },
    {
      "cell_type": "code",
      "source": [
        "input_size = 7  \n",
        "hidden_size = 128  \n",
        "output_size = 24\n",
        "num_layers = 2 \n",
        "dropout = 0.5\n",
        "RNN_model= RNN(input_size, hidden_size, output_size, num_layers, dropout)"
      ],
      "metadata": {
        "id": "JMAB26zR7Lak"
      },
      "execution_count": null,
      "outputs": []
    },
    {
      "cell_type": "code",
      "source": [
        "criterion = nn.MSELoss()\n",
        "optimizer = optim.Adam(RNN_model.parameters(), lr=0.0005)\n",
        "num_epochs = 5\n",
        "\n",
        "train_loss_list, val_loss_list = training(RNN_model, num_epochs, criterion, optimizer, train_dataloader, val_dataloader, log=False)\n",
        "y_pred_list, y_gt_list = testing(RNN_model, criterion, test_dataloader)"
      ],
      "metadata": {
        "colab": {
          "base_uri": "https://localhost:8080/"
        },
        "id": "ZgjPkp5c7Na9",
        "outputId": "a9c0b550-e5f2-48e2-dd00-cdaa01ce868e"
      },
      "execution_count": null,
      "outputs": [
        {
          "output_type": "stream",
          "name": "stdout",
          "text": [
            "Test Loss: 0.0022\n"
          ]
        }
      ]
    },
    {
      "cell_type": "markdown",
      "source": [
        "### Adding Data Shifting"
      ],
      "metadata": {
        "id": "xmOifjhxX8yj"
      }
    },
    {
      "cell_type": "markdown",
      "source": [
        "5% noise"
      ],
      "metadata": {
        "id": "tZhZYMEPQSEv"
      }
    },
    {
      "cell_type": "code",
      "source": [
        "# The dataloader with noise added\n",
        "train_noise_set_1 = Dataset_ETTh1(train_data_scaled, gaussian_noise=0.05)\n",
        "train_noise_dataloader_1 = DataLoader(train_noise_set_1, batch_size=32, shuffle=True)"
      ],
      "metadata": {
        "id": "kaUopyzvQPcm"
      },
      "execution_count": null,
      "outputs": []
    },
    {
      "cell_type": "code",
      "source": [
        "input_size = 7  \n",
        "hidden_size = 128  \n",
        "output_size = 24\n",
        "num_layers = 1 \n",
        "dropout = 0\n",
        "RNN_model_2 = RNN(input_size, hidden_size, output_size, num_layers, dropout)\n",
        "\n",
        "# Define loss function and optimizer\n",
        "criterion = nn.MSELoss()\n",
        "optimizer = optim.Adam(RNN_model_2.parameters(), lr=0.0005)\n",
        "num_epochs = 5\n",
        "\n",
        "# training with the shifted dataset\n",
        "train_loss_list, val_loss_list = training(RNN_model_2, num_epochs, criterion, optimizer, train_noise_dataloader_1, val_dataloader)"
      ],
      "metadata": {
        "colab": {
          "base_uri": "https://localhost:8080/"
        },
        "id": "WokobpbRQY7G",
        "outputId": "589b816b-8efc-4a56-ba4a-f2c3838d333b"
      },
      "execution_count": null,
      "outputs": [
        {
          "output_type": "stream",
          "name": "stdout",
          "text": [
            "Epoch: 1, 0 / 322, Training Loss: 0.1993, Validation Loss: 0.0495\n",
            "Epoch: 1, 50 / 322, Training Loss: 0.0542, Validation Loss: 0.0569\n",
            "Epoch: 1, 100 / 322, Training Loss: 0.0373, Validation Loss: 0.0329\n",
            "Epoch: 1, 150 / 322, Training Loss: 0.0278, Validation Loss: 0.0047\n",
            "Epoch: 1, 200 / 322, Training Loss: 0.0226, Validation Loss: 0.0022\n",
            "Epoch: 1, 250 / 322, Training Loss: 0.0195, Validation Loss: 0.0029\n",
            "Epoch: 1, 300 / 322, Training Loss: 0.0173, Validation Loss: 0.0019\n",
            "Epoch: 2, 0 / 322, Training Loss: 0.0062, Validation Loss: 0.0025\n",
            "Epoch: 2, 50 / 322, Training Loss: 0.0066, Validation Loss: 0.0027\n",
            "Epoch: 2, 100 / 322, Training Loss: 0.0066, Validation Loss: 0.0018\n",
            "Epoch: 2, 150 / 322, Training Loss: 0.0064, Validation Loss: 0.0025\n",
            "Epoch: 2, 200 / 322, Training Loss: 0.0064, Validation Loss: 0.0018\n",
            "Epoch: 2, 250 / 322, Training Loss: 0.0064, Validation Loss: 0.0036\n",
            "Epoch: 2, 300 / 322, Training Loss: 0.0063, Validation Loss: 0.0022\n",
            "Epoch: 3, 0 / 322, Training Loss: 0.0059, Validation Loss: 0.0034\n",
            "Epoch: 3, 50 / 322, Training Loss: 0.0062, Validation Loss: 0.0037\n",
            "Epoch: 3, 100 / 322, Training Loss: 0.0060, Validation Loss: 0.0020\n",
            "Epoch: 3, 150 / 322, Training Loss: 0.0063, Validation Loss: 0.0048\n",
            "Epoch: 3, 200 / 322, Training Loss: 0.0061, Validation Loss: 0.0024\n",
            "Epoch: 3, 250 / 322, Training Loss: 0.0062, Validation Loss: 0.0056\n",
            "Epoch: 3, 300 / 322, Training Loss: 0.0062, Validation Loss: 0.0031\n",
            "Epoch: 4, 0 / 322, Training Loss: 0.0063, Validation Loss: 0.0035\n",
            "Epoch: 4, 50 / 322, Training Loss: 0.0061, Validation Loss: 0.0061\n",
            "Epoch: 4, 100 / 322, Training Loss: 0.0060, Validation Loss: 0.0025\n",
            "Epoch: 4, 150 / 322, Training Loss: 0.0059, Validation Loss: 0.0063\n",
            "Epoch: 4, 200 / 322, Training Loss: 0.0060, Validation Loss: 0.0040\n",
            "Epoch: 4, 250 / 322, Training Loss: 0.0060, Validation Loss: 0.0026\n",
            "Epoch: 4, 300 / 322, Training Loss: 0.0059, Validation Loss: 0.0032\n",
            "Epoch: 5, 0 / 322, Training Loss: 0.0046, Validation Loss: 0.0021\n",
            "Epoch: 5, 50 / 322, Training Loss: 0.0058, Validation Loss: 0.0041\n",
            "Epoch: 5, 100 / 322, Training Loss: 0.0058, Validation Loss: 0.0032\n",
            "Epoch: 5, 150 / 322, Training Loss: 0.0059, Validation Loss: 0.0029\n",
            "Epoch: 5, 200 / 322, Training Loss: 0.0059, Validation Loss: 0.0036\n",
            "Epoch: 5, 250 / 322, Training Loss: 0.0058, Validation Loss: 0.0038\n",
            "Epoch: 5, 300 / 322, Training Loss: 0.0058, Validation Loss: 0.0029\n"
          ]
        }
      ]
    },
    {
      "cell_type": "code",
      "source": [
        "y_pred_list, y_gt_list = testing(RNN_model_2, criterion, test_dataloader)"
      ],
      "metadata": {
        "colab": {
          "base_uri": "https://localhost:8080/"
        },
        "id": "JXMkzZbjQ5XP",
        "outputId": "ab2f51a8-f7f7-4d28-9c3d-56c838e0cdb2"
      },
      "execution_count": null,
      "outputs": [
        {
          "output_type": "stream",
          "name": "stdout",
          "text": [
            "Test Loss: 0.0024\n"
          ]
        }
      ]
    },
    {
      "cell_type": "markdown",
      "source": [
        "10% noise"
      ],
      "metadata": {
        "id": "_tVEJwgRR3Aj"
      }
    },
    {
      "cell_type": "code",
      "source": [
        "# The dataloader with noise added\n",
        "train_noise_set_2 = Dataset_ETTh1(train_data_scaled, gaussian_noise=0.1)\n",
        "train_noise_dataloader_2 = DataLoader(train_noise_set_2, batch_size=32, shuffle=True)"
      ],
      "metadata": {
        "id": "NgukG436R68Z"
      },
      "execution_count": null,
      "outputs": []
    },
    {
      "cell_type": "code",
      "source": [
        "input_size = 7  \n",
        "hidden_size = 128  \n",
        "output_size = 24\n",
        "num_layers = 1 \n",
        "dropout = 0\n",
        "RNN_model_3 = RNN(input_size, hidden_size, output_size, num_layers, dropout)\n",
        "\n",
        "# Define loss function and optimizer\n",
        "criterion = nn.MSELoss()\n",
        "optimizer = optim.Adam(RNN_model_3.parameters(), lr=0.0005)\n",
        "num_epochs = 5\n",
        "\n",
        "# training with the shifted dataset\n",
        "train_loss_list, val_loss_list = training(RNN_model_3, num_epochs, criterion, optimizer, train_noise_dataloader_2, val_dataloader)"
      ],
      "metadata": {
        "colab": {
          "base_uri": "https://localhost:8080/"
        },
        "id": "fwsewBWiR-ZK",
        "outputId": "8aac46fb-2288-4d61-d48c-3d05da7c5f74"
      },
      "execution_count": null,
      "outputs": [
        {
          "output_type": "stream",
          "name": "stdout",
          "text": [
            "Epoch: 1, 0 / 322, Training Loss: 0.2163, Validation Loss: 0.0583\n",
            "Epoch: 1, 50 / 322, Training Loss: 0.0614, Validation Loss: 0.0388\n",
            "Epoch: 1, 100 / 322, Training Loss: 0.0414, Validation Loss: 0.0061\n",
            "Epoch: 1, 150 / 322, Training Loss: 0.0330, Validation Loss: 0.0039\n",
            "Epoch: 1, 200 / 322, Training Loss: 0.0287, Validation Loss: 0.0033\n",
            "Epoch: 1, 250 / 322, Training Loss: 0.0260, Validation Loss: 0.0048\n",
            "Epoch: 1, 300 / 322, Training Loss: 0.0242, Validation Loss: 0.0021\n",
            "Epoch: 2, 0 / 322, Training Loss: 0.0140, Validation Loss: 0.0019\n",
            "Epoch: 2, 50 / 322, Training Loss: 0.0148, Validation Loss: 0.0025\n",
            "Epoch: 2, 100 / 322, Training Loss: 0.0146, Validation Loss: 0.0026\n",
            "Epoch: 2, 150 / 322, Training Loss: 0.0146, Validation Loss: 0.0026\n",
            "Epoch: 2, 200 / 322, Training Loss: 0.0145, Validation Loss: 0.0035\n",
            "Epoch: 2, 250 / 322, Training Loss: 0.0145, Validation Loss: 0.0041\n",
            "Epoch: 2, 300 / 322, Training Loss: 0.0145, Validation Loss: 0.0024\n",
            "Epoch: 3, 0 / 322, Training Loss: 0.0141, Validation Loss: 0.0041\n",
            "Epoch: 3, 50 / 322, Training Loss: 0.0144, Validation Loss: 0.0020\n",
            "Epoch: 3, 100 / 322, Training Loss: 0.0145, Validation Loss: 0.0039\n",
            "Epoch: 3, 150 / 322, Training Loss: 0.0144, Validation Loss: 0.0049\n",
            "Epoch: 3, 200 / 322, Training Loss: 0.0143, Validation Loss: 0.0026\n",
            "Epoch: 3, 250 / 322, Training Loss: 0.0143, Validation Loss: 0.0025\n",
            "Epoch: 3, 300 / 322, Training Loss: 0.0143, Validation Loss: 0.0023\n",
            "Epoch: 4, 0 / 322, Training Loss: 0.0171, Validation Loss: 0.0093\n",
            "Epoch: 4, 50 / 322, Training Loss: 0.0147, Validation Loss: 0.0033\n",
            "Epoch: 4, 100 / 322, Training Loss: 0.0143, Validation Loss: 0.0042\n",
            "Epoch: 4, 150 / 322, Training Loss: 0.0143, Validation Loss: 0.0049\n",
            "Epoch: 4, 200 / 322, Training Loss: 0.0142, Validation Loss: 0.0030\n",
            "Epoch: 4, 250 / 322, Training Loss: 0.0142, Validation Loss: 0.0032\n",
            "Epoch: 4, 300 / 322, Training Loss: 0.0142, Validation Loss: 0.0036\n",
            "Epoch: 5, 0 / 322, Training Loss: 0.0151, Validation Loss: 0.0044\n",
            "Epoch: 5, 50 / 322, Training Loss: 0.0139, Validation Loss: 0.0026\n",
            "Epoch: 5, 100 / 322, Training Loss: 0.0140, Validation Loss: 0.0051\n",
            "Epoch: 5, 150 / 322, Training Loss: 0.0141, Validation Loss: 0.0026\n",
            "Epoch: 5, 200 / 322, Training Loss: 0.0141, Validation Loss: 0.0044\n",
            "Epoch: 5, 250 / 322, Training Loss: 0.0141, Validation Loss: 0.0060\n",
            "Epoch: 5, 300 / 322, Training Loss: 0.0140, Validation Loss: 0.0051\n"
          ]
        }
      ]
    },
    {
      "cell_type": "code",
      "source": [
        "y_pred_list, y_gt_list = testing(RNN_model_3, criterion, test_dataloader)"
      ],
      "metadata": {
        "colab": {
          "base_uri": "https://localhost:8080/"
        },
        "id": "tBElJLveSDVf",
        "outputId": "103db1ea-6d41-409c-f1e0-1237a6eecea1"
      },
      "execution_count": null,
      "outputs": [
        {
          "output_type": "stream",
          "name": "stdout",
          "text": [
            "Test Loss: 0.0027\n"
          ]
        }
      ]
    },
    {
      "cell_type": "markdown",
      "source": [
        "### K-Folder\n"
      ],
      "metadata": {
        "id": "UxSXvIDIcEjZ"
      }
    },
    {
      "cell_type": "code",
      "source": [
        "from torch.utils.data import ConcatDataset\n",
        "# keep the last split as the testing set\n",
        "val_idx = int(len(df) * 0.8)\n",
        "\n",
        "# Use 4-fold to divide the rest of the dataset into training and testing\n",
        "idx_ratio = [0, 0.2, 0.4, 0.6, 0.8]\n",
        "idx = [int(len(df) * x) for x in idx_ratio]\n",
        "model_list = []\n",
        "\n",
        "for i in range(len(idx) - 1):\n",
        "  if i in [1, 2]:\n",
        "    train_data_1 = df_data[0:idx[i]].values\n",
        "    train_data_2 = df_data[idx[i+1]:val_idx].values\n",
        "\n",
        "    train_data_scaled_1 = scaler.transform(train_data_1)\n",
        "    train_data_scaled_2 = scaler.transform(train_data_2)\n",
        "\n",
        "\n",
        "    train_set_1 = Dataset_ETTh1(train_data_scaled_1)\n",
        "    train_set_2 = Dataset_ETTh1(train_data_scaled_2)\n",
        "\n",
        "    train_set_all = ConcatDataset([train_set_1, train_set_2])\n",
        "\n",
        "  elif i == 0:\n",
        "    train_data_ = df_data[idx[i+1]:val_idx].values\n",
        "    train_data_scaled_ = scaler.transform(train_data_)\n",
        "    train_set_all = Dataset_ETTh1(train_data_scaled_)\n",
        "  \n",
        "  elif i == 3:\n",
        "    train_data_ = df_data[0:idx[i]].values\n",
        "    train_data_scaled_ = scaler.transform(train_data_)\n",
        "    train_set_all = Dataset_ETTh1(train_data_scaled_)\n",
        "\n",
        "  val_data = df_data[idx[i]:idx[i+1]].values\n",
        "  val_set = Dataset_ETTh1(val_data_scaled)\n",
        "\n",
        "  train_dataloader = DataLoader(train_set_all, batch_size=32, shuffle=True)\n",
        "  val_dataloader = DataLoader(val_set, batch_size=32, shuffle=False)\n",
        "\n",
        "  # training:\n",
        "  RNN_model = RNN(input_size, hidden_size, output_size, num_layers, dropout)\n",
        "  criterion = nn.MSELoss()\n",
        "  optimizer = optim.Adam(RNN_model.parameters(), lr=0.0005)\n",
        "  num_epochs = 5\n",
        "  train_loss_list, val_loss_list = training(RNN_model, num_epochs, criterion, optimizer, train_dataloader, val_dataloader, log=False)\n",
        "  model_list.append(RNN_model)\n",
        "  print(\"model \" + str(i) + \" finished.\")\n",
        "\n",
        "   \n"
      ],
      "metadata": {
        "colab": {
          "base_uri": "https://localhost:8080/"
        },
        "id": "kgXh6Zd4cQi5",
        "outputId": "694714b7-775c-4b1b-fa65-b4acdada954e"
      },
      "execution_count": null,
      "outputs": [
        {
          "output_type": "stream",
          "name": "stdout",
          "text": [
            "model 0 finished.\n",
            "model 1 finished.\n",
            "model 2 finished.\n",
            "model 3 finished.\n"
          ]
        }
      ]
    },
    {
      "cell_type": "code",
      "source": [
        "# keep the last split as the testing set\n",
        "test_data = df_data[val_idx:].values\n",
        "test_data_scaled = scaler.transform(test_data)\n",
        "test_set = Dataset_ETTh1(test_data_scaled)\n",
        "test_dataloader = DataLoader(test_set, batch_size=1, shuffle=False)"
      ],
      "metadata": {
        "id": "zir9B77c0lcm"
      },
      "execution_count": null,
      "outputs": []
    },
    {
      "cell_type": "code",
      "source": [
        "y_pred_list_all = []\n",
        "for i in range(len(model_list)):\n",
        "  y_pred_list, y_gt_list = testing(model_list[i], criterion, test_dataloader)\n",
        "  y_pred_list = np.stack(y_pred_list)\n",
        "  y_pred_list_all.append(y_pred_list)\n",
        "\n",
        "y_pred_list_all = np.array(y_pred_list_all)\n",
        "y_pred_avg = np.mean(y_pred_list_all, axis=0)\n",
        "y_pred_avg = y_pred_avg.reshape(-1, 24)\n",
        "print(y_pred_avg.shape)"
      ],
      "metadata": {
        "colab": {
          "base_uri": "https://localhost:8080/"
        },
        "id": "mUGoYzdzxohJ",
        "outputId": "2f448655-f662-4b0b-bff3-a7d5a40bbf39"
      },
      "execution_count": null,
      "outputs": [
        {
          "output_type": "stream",
          "name": "stdout",
          "text": [
            "Test Loss: 0.0016\n",
            "Test Loss: 0.0014\n",
            "Test Loss: 0.0014\n",
            "Test Loss: 0.0017\n",
            "(3317, 24)\n"
          ]
        }
      ]
    },
    {
      "cell_type": "code",
      "source": [
        "y_gt_arr = np.stack(y_gt_list)\n",
        "y_gt_arr = y_gt_arr.reshape(-1, 24)\n",
        "print(y_gt_arr.shape)"
      ],
      "metadata": {
        "colab": {
          "base_uri": "https://localhost:8080/"
        },
        "id": "wQkujqO_1G-w",
        "outputId": "7f14c801-5465-4bef-aca8-9ea9ba226a64"
      },
      "execution_count": null,
      "outputs": [
        {
          "output_type": "stream",
          "name": "stdout",
          "text": [
            "(3317, 24)\n"
          ]
        }
      ]
    },
    {
      "cell_type": "code",
      "source": [
        "final_loss = criterion(torch.from_numpy(y_pred_avg), torch.from_numpy(y_gt_arr))\n",
        "print(final_loss)"
      ],
      "metadata": {
        "colab": {
          "base_uri": "https://localhost:8080/"
        },
        "id": "Tih855Di1aWH",
        "outputId": "8f5a9ae1-d92d-4b76-a3c1-3b4a4176d06f"
      },
      "execution_count": null,
      "outputs": [
        {
          "output_type": "stream",
          "name": "stdout",
          "text": [
            "tensor(0.0013)\n"
          ]
        }
      ]
    },
    {
      "cell_type": "markdown",
      "source": [
        "### LSTM"
      ],
      "metadata": {
        "id": "tbxaICBXHKsE"
      }
    },
    {
      "cell_type": "code",
      "source": [
        "# Define LSTM model\n",
        "class LSTM(nn.Module):\n",
        "  def __init__(self, input_size, hidden_size, output_size, num_layers, dropout):\n",
        "    super(LSTM, self).__init__()\n",
        "    self.hidden_size = hidden_size\n",
        "    self.num_layers = num_layers\n",
        "    self.lstm = nn.LSTM(input_size, hidden_size, num_layers, batch_first=True, dropout=dropout)\n",
        "    self.fc = nn.Linear(hidden_size, output_size)\n",
        "        \n",
        "  def forward(self, x):\n",
        "    h0 = torch.zeros(self.num_layers, x.size(0), self.hidden_size)\n",
        "    c0 = torch.zeros(self.num_layers, x.size(0), self.hidden_size)\n",
        "    out, _ = self.lstm(x, (h0, c0))\n",
        "    out = self.fc(out[:, -1, :])\n",
        "    return out"
      ],
      "metadata": {
        "id": "JC2agEzHHQOH"
      },
      "execution_count": null,
      "outputs": []
    },
    {
      "cell_type": "markdown",
      "source": [
        "training LSTM without data shifting"
      ],
      "metadata": {
        "id": "HjBkPAOzH7W2"
      }
    },
    {
      "cell_type": "code",
      "source": [
        "input_size = 7  \n",
        "hidden_size = 64  \n",
        "output_size = 24\n",
        "num_layers = 1\n",
        "dropout = 0\n",
        "LSTM_model = LSTM(input_size, hidden_size, output_size, num_layers, dropout)\n",
        "\n",
        "# Define loss function and optimizer\n",
        "criterion = nn.MSELoss()\n",
        "optimizer = optim.Adam(LSTM_model.parameters(), lr=0.0005)\n",
        "num_epochs = 5\n",
        "\n",
        "train_loss_list, val_loss_list = training(LSTM_model, num_epochs, criterion, optimizer, train_dataloader, val_dataloader)"
      ],
      "metadata": {
        "colab": {
          "base_uri": "https://localhost:8080/"
        },
        "id": "dWYjnlhVHwdf",
        "outputId": "e37fc2b0-d3ff-4326-8482-09f73649ab05"
      },
      "execution_count": null,
      "outputs": [
        {
          "output_type": "stream",
          "name": "stdout",
          "text": [
            "Epoch: 1, 0 / 322, Training Loss: 0.1908, Validation Loss: 0.0591\n",
            "Epoch: 1, 50 / 322, Training Loss: 0.1105, Validation Loss: 0.0368\n",
            "Epoch: 1, 100 / 322, Training Loss: 0.0659, Validation Loss: 0.0421\n",
            "Epoch: 1, 150 / 322, Training Loss: 0.0482, Validation Loss: 0.0218\n",
            "Epoch: 1, 200 / 322, Training Loss: 0.0380, Validation Loss: 0.0185\n",
            "Epoch: 1, 250 / 322, Training Loss: 0.0315, Validation Loss: 0.0127\n",
            "Epoch: 1, 300 / 322, Training Loss: 0.0270, Validation Loss: 0.0099\n",
            "Epoch: 2, 0 / 322, Training Loss: 0.0042, Validation Loss: 0.0091\n",
            "Epoch: 2, 50 / 322, Training Loss: 0.0042, Validation Loss: 0.0080\n",
            "Epoch: 2, 100 / 322, Training Loss: 0.0041, Validation Loss: 0.0078\n",
            "Epoch: 2, 150 / 322, Training Loss: 0.0040, Validation Loss: 0.0065\n",
            "Epoch: 2, 200 / 322, Training Loss: 0.0039, Validation Loss: 0.0073\n",
            "Epoch: 2, 250 / 322, Training Loss: 0.0038, Validation Loss: 0.0070\n",
            "Epoch: 2, 300 / 322, Training Loss: 0.0038, Validation Loss: 0.0054\n",
            "Epoch: 3, 0 / 322, Training Loss: 0.0040, Validation Loss: 0.0048\n",
            "Epoch: 3, 50 / 322, Training Loss: 0.0032, Validation Loss: 0.0055\n",
            "Epoch: 3, 100 / 322, Training Loss: 0.0035, Validation Loss: 0.0052\n",
            "Epoch: 3, 150 / 322, Training Loss: 0.0035, Validation Loss: 0.0044\n",
            "Epoch: 3, 200 / 322, Training Loss: 0.0035, Validation Loss: 0.0048\n",
            "Epoch: 3, 250 / 322, Training Loss: 0.0035, Validation Loss: 0.0047\n",
            "Epoch: 3, 300 / 322, Training Loss: 0.0035, Validation Loss: 0.0050\n",
            "Epoch: 4, 0 / 322, Training Loss: 0.0046, Validation Loss: 0.0056\n",
            "Epoch: 4, 50 / 322, Training Loss: 0.0034, Validation Loss: 0.0045\n",
            "Epoch: 4, 100 / 322, Training Loss: 0.0033, Validation Loss: 0.0040\n",
            "Epoch: 4, 150 / 322, Training Loss: 0.0034, Validation Loss: 0.0041\n",
            "Epoch: 4, 200 / 322, Training Loss: 0.0034, Validation Loss: 0.0037\n",
            "Epoch: 4, 250 / 322, Training Loss: 0.0034, Validation Loss: 0.0037\n",
            "Epoch: 4, 300 / 322, Training Loss: 0.0033, Validation Loss: 0.0041\n",
            "Epoch: 5, 0 / 322, Training Loss: 0.0030, Validation Loss: 0.0040\n",
            "Epoch: 5, 50 / 322, Training Loss: 0.0033, Validation Loss: 0.0045\n",
            "Epoch: 5, 100 / 322, Training Loss: 0.0033, Validation Loss: 0.0038\n",
            "Epoch: 5, 150 / 322, Training Loss: 0.0033, Validation Loss: 0.0047\n",
            "Epoch: 5, 200 / 322, Training Loss: 0.0033, Validation Loss: 0.0037\n",
            "Epoch: 5, 250 / 322, Training Loss: 0.0033, Validation Loss: 0.0042\n",
            "Epoch: 5, 300 / 322, Training Loss: 0.0033, Validation Loss: 0.0037\n"
          ]
        }
      ]
    },
    {
      "cell_type": "code",
      "source": [
        "y_pred_list, y_gt_list = testing(LSTM_model, criterion, test_dataloader)"
      ],
      "metadata": {
        "colab": {
          "base_uri": "https://localhost:8080/"
        },
        "id": "EplYFZzLNvut",
        "outputId": "8477f118-38ef-4717-d006-b151df337e63"
      },
      "execution_count": null,
      "outputs": [
        {
          "output_type": "stream",
          "name": "stdout",
          "text": [
            "Test Loss: 0.0022\n"
          ]
        }
      ]
    },
    {
      "cell_type": "markdown",
      "source": [
        "#### Adding K-folder"
      ],
      "metadata": {
        "id": "qFBj3mdj2WEz"
      }
    },
    {
      "cell_type": "code",
      "source": [
        "input_size = 7  \n",
        "hidden_size = 128\n",
        "output_size = 24\n",
        "num_layers = 1\n",
        "dropout = 0"
      ],
      "metadata": {
        "id": "6Zdruk5Y2Eo-"
      },
      "execution_count": null,
      "outputs": []
    },
    {
      "cell_type": "code",
      "source": [
        "from torch.utils.data import ConcatDataset\n",
        "# keep the last split as the testing set\n",
        "val_idx = int(len(df) * 0.8)\n",
        "\n",
        "# Use 4-fold to divide the rest of the dataset into training and testing\n",
        "idx_ratio = [0, 0.2, 0.4, 0.6, 0.8]\n",
        "idx = [int(len(df) * x) for x in idx_ratio]\n",
        "model_list = []\n",
        "\n",
        "for i in range(len(idx) - 1):\n",
        "  if i in [1, 2]:\n",
        "    train_data_1 = df_data[0:idx[i]].values\n",
        "    train_data_2 = df_data[idx[i+1]:val_idx].values\n",
        "\n",
        "    train_data_scaled_1 = scaler.transform(train_data_1)\n",
        "    train_data_scaled_2 = scaler.transform(train_data_2)\n",
        "\n",
        "\n",
        "    train_set_1 = Dataset_ETTh1(train_data_scaled_1)\n",
        "    train_set_2 = Dataset_ETTh1(train_data_scaled_2)\n",
        "\n",
        "    train_set_all = ConcatDataset([train_set_1, train_set_2])\n",
        "\n",
        "  elif i == 0:\n",
        "    train_data_ = df_data[idx[i+1]:val_idx].values\n",
        "    train_data_scaled_ = scaler.transform(train_data_)\n",
        "    train_set_all = Dataset_ETTh1(train_data_scaled_)\n",
        "  \n",
        "  elif i == 3:\n",
        "    train_data_ = df_data[0:idx[i]].values\n",
        "    train_data_scaled_ = scaler.transform(train_data_)\n",
        "    train_set_all = Dataset_ETTh1(train_data_scaled_)\n",
        "\n",
        "  val_data = df_data[idx[i]:idx[i+1]].values\n",
        "  val_set = Dataset_ETTh1(val_data_scaled)\n",
        "\n",
        "  train_dataloader = DataLoader(train_set_all, batch_size=32, shuffle=True)\n",
        "  val_dataloader = DataLoader(val_set, batch_size=32, shuffle=False)\n",
        "\n",
        "  # training:\n",
        "  LSTM_model = LSTM(input_size, hidden_size, output_size, num_layers, dropout)\n",
        "  criterion = nn.MSELoss()\n",
        "  optimizer = optim.Adam(LSTM_model.parameters(), lr=0.0005)\n",
        "  num_epochs = 5\n",
        "  train_loss_list, val_loss_list = training(LSTM_model, num_epochs, criterion, optimizer, train_dataloader, val_dataloader, log=False)\n",
        "  model_list.append(LSTM_model)\n",
        "  print(\"model \" + str(i) + \" finished.\")"
      ],
      "metadata": {
        "colab": {
          "base_uri": "https://localhost:8080/"
        },
        "id": "zdDpwivT1qkG",
        "outputId": "5faaee5f-38f0-4fce-88ce-efd12232b9ca"
      },
      "execution_count": null,
      "outputs": [
        {
          "output_type": "stream",
          "name": "stdout",
          "text": [
            "model 0 finished.\n",
            "model 1 finished.\n",
            "model 2 finished.\n",
            "model 3 finished.\n"
          ]
        }
      ]
    },
    {
      "cell_type": "code",
      "source": [
        "# keep the last split as the testing set\n",
        "test_data = df_data[val_idx:].values\n",
        "test_data_scaled = scaler.transform(test_data)\n",
        "test_set = Dataset_ETTh1(test_data_scaled)\n",
        "test_dataloader = DataLoader(test_set, batch_size=1, shuffle=False)"
      ],
      "metadata": {
        "id": "JlqiZAaK2iBz"
      },
      "execution_count": null,
      "outputs": []
    },
    {
      "cell_type": "code",
      "source": [
        "y_pred_list_all = []\n",
        "for i in range(len(model_list)):\n",
        "  y_pred_list, y_gt_list = testing(model_list[i], criterion, test_dataloader)\n",
        "  y_pred_list = np.stack(y_pred_list)\n",
        "  y_pred_list_all.append(y_pred_list)\n",
        "\n",
        "y_pred_list_all = np.array(y_pred_list_all)\n",
        "y_pred_avg = np.mean(y_pred_list_all, axis=0)\n",
        "y_pred_avg = y_pred_avg.reshape(-1, 24)\n",
        "print(y_pred_avg.shape)"
      ],
      "metadata": {
        "colab": {
          "base_uri": "https://localhost:8080/"
        },
        "id": "MKR1NIXW2m78",
        "outputId": "fe9784fd-41b1-4a12-9dd4-d48be1c98d59"
      },
      "execution_count": null,
      "outputs": [
        {
          "output_type": "stream",
          "name": "stdout",
          "text": [
            "Test Loss: 0.0015\n",
            "Test Loss: 0.0018\n",
            "Test Loss: 0.0014\n",
            "Test Loss: 0.0020\n",
            "(3317, 24)\n"
          ]
        }
      ]
    },
    {
      "cell_type": "code",
      "source": [
        "y_gt_arr = np.stack(y_gt_list)\n",
        "y_gt_arr = y_gt_arr.reshape(-1, 24)\n",
        "final_loss = criterion(torch.from_numpy(y_pred_avg), torch.from_numpy(y_gt_arr))\n",
        "final_loss"
      ],
      "metadata": {
        "colab": {
          "base_uri": "https://localhost:8080/"
        },
        "id": "xZz-rUSI2tzu",
        "outputId": "cd5253cb-ab2d-4475-9cb0-88af55731e75"
      },
      "execution_count": null,
      "outputs": [
        {
          "output_type": "execute_result",
          "data": {
            "text/plain": [
              "tensor(0.0014)"
            ]
          },
          "metadata": {},
          "execution_count": 30
        }
      ]
    },
    {
      "cell_type": "markdown",
      "source": [
        "#### Evaluating different hyperparameters"
      ],
      "metadata": {
        "id": "yD23OglB9YXW"
      }
    },
    {
      "cell_type": "code",
      "source": [
        "input_size = 7  \n",
        "hidden_size = 128  \n",
        "output_size = 24\n",
        "num_layers = 1 \n",
        "dropout = 0\n",
        "LSTM_model = LSTM(input_size, hidden_size, output_size, num_layers, dropout)\n",
        "\n",
        "criterion = nn.MSELoss()\n",
        "optimizer = optim.Adam(LSTM_model.parameters(), lr=0.0005)\n",
        "num_epochs = 5\n",
        "\n",
        "train_loss_list, val_loss_list = training(LSTM_model, num_epochs, criterion, optimizer, train_dataloader, val_dataloader, log=False)\n",
        "y_pred_list, y_gt_list = testing(LSTM_model, criterion, test_dataloader)"
      ],
      "metadata": {
        "colab": {
          "base_uri": "https://localhost:8080/"
        },
        "id": "yesgZIFB9emU",
        "outputId": "62700e76-967e-4695-b131-5092255e8d06"
      },
      "execution_count": null,
      "outputs": [
        {
          "output_type": "stream",
          "name": "stdout",
          "text": [
            "Test Loss: 0.0015\n"
          ]
        }
      ]
    },
    {
      "cell_type": "code",
      "source": [
        "input_size = 7  \n",
        "hidden_size = 128  \n",
        "output_size = 24\n",
        "num_layers = 2 \n",
        "dropout = 0\n",
        "LSTM_model = LSTM(input_size, hidden_size, output_size, num_layers, dropout)\n",
        "\n",
        "criterion = nn.MSELoss()\n",
        "optimizer = optim.Adam(LSTM_model.parameters(), lr=0.0005)\n",
        "num_epochs = 5\n",
        "\n",
        "train_loss_list, val_loss_list = training(LSTM_model, num_epochs, criterion, optimizer, train_dataloader, val_dataloader, log=False)\n",
        "y_pred_list, y_gt_list = testing(LSTM_model, criterion, test_dataloader)"
      ],
      "metadata": {
        "colab": {
          "base_uri": "https://localhost:8080/"
        },
        "id": "cz7cxRW19v5C",
        "outputId": "97e2798d-b6bd-4beb-ec55-d6770e7b79be"
      },
      "execution_count": null,
      "outputs": [
        {
          "output_type": "stream",
          "name": "stdout",
          "text": [
            "Test Loss: 0.0021\n"
          ]
        }
      ]
    },
    {
      "cell_type": "code",
      "source": [
        "input_size = 7  \n",
        "hidden_size = 128  \n",
        "output_size = 24\n",
        "num_layers = 2 \n",
        "dropout = 0.5\n",
        "LSTM_model = LSTM(input_size, hidden_size, output_size, num_layers, dropout)\n",
        "\n",
        "criterion = nn.MSELoss()\n",
        "optimizer = optim.Adam(LSTM_model.parameters(), lr=0.0005)\n",
        "num_epochs = 5\n",
        "\n",
        "train_loss_list, val_loss_list = training(LSTM_model, num_epochs, criterion, optimizer, train_dataloader, val_dataloader, log=False)\n",
        "y_pred_list, y_gt_list = testing(LSTM_model, criterion, test_dataloader)"
      ],
      "metadata": {
        "colab": {
          "base_uri": "https://localhost:8080/"
        },
        "id": "3MFrc6EN91XZ",
        "outputId": "5e9fd4ae-52ab-4ae2-8ca6-de4fc2cee393"
      },
      "execution_count": null,
      "outputs": [
        {
          "output_type": "stream",
          "name": "stdout",
          "text": [
            "Test Loss: 0.0023\n"
          ]
        }
      ]
    },
    {
      "cell_type": "markdown",
      "source": [
        "##Linear Regression"
      ],
      "metadata": {
        "id": "_VrSjPTikw4W"
      }
    },
    {
      "cell_type": "markdown",
      "source": [
        "###Data Preprocess"
      ],
      "metadata": {
        "id": "K_zRZaLSkHjq"
      }
    },
    {
      "cell_type": "markdown",
      "source": [
        "**Without Feature Augmentation**"
      ],
      "metadata": {
        "id": "AApxBIp4ZlCd"
      }
    },
    {
      "cell_type": "code",
      "source": [
        "X = []\n",
        "y = []\n",
        "lr_train_dataloader = DataLoader(train_set, batch_size=1, shuffle=True)\n",
        "for batch in lr_train_dataloader:\n",
        "  X_batch, y_batch = batch\n",
        "  X.append(X_batch.numpy().reshape([1, -1]))\n",
        "  y.append(y_batch.numpy().reshape([1, -1]))\n",
        "x_train = np.concatenate(X)\n",
        "y_train = np.concatenate(y)"
      ],
      "metadata": {
        "id": "U6APDS2WZa2K"
      },
      "execution_count": null,
      "outputs": []
    },
    {
      "cell_type": "code",
      "source": [
        "x_train.shape"
      ],
      "metadata": {
        "colab": {
          "base_uri": "https://localhost:8080/"
        },
        "id": "LuTS9FIsfjpB",
        "outputId": "38cd901f-56b1-49e8-a09c-549b47659442"
      },
      "execution_count": null,
      "outputs": [
        {
          "output_type": "execute_result",
          "data": {
            "text/plain": [
              "(10285, 1008)"
            ]
          },
          "metadata": {},
          "execution_count": 18
        }
      ]
    },
    {
      "cell_type": "code",
      "source": [
        "X = []\n",
        "y = []\n",
        "lr_test_dataloader = DataLoader(test_set, batch_size=1, shuffle=False)\n",
        "for batch in lr_test_dataloader:\n",
        "  X_batch, y_batch = batch\n",
        "  X.append(X_batch.numpy().reshape([1, -1]))\n",
        "  y.append(y_batch.numpy())\n",
        "\n",
        "x_test = np.concatenate(X)\n",
        "y_test = np.concatenate(y)"
      ],
      "metadata": {
        "id": "h9jPGXGQe89s"
      },
      "execution_count": null,
      "outputs": []
    },
    {
      "cell_type": "code",
      "source": [
        "x_test.shape"
      ],
      "metadata": {
        "colab": {
          "base_uri": "https://localhost:8080/"
        },
        "id": "jT8R3L1CgZbq",
        "outputId": "20715765-5205-402d-9d48-4f47bcc8804a"
      },
      "execution_count": null,
      "outputs": [
        {
          "output_type": "execute_result",
          "data": {
            "text/plain": [
              "(3317, 1008)"
            ]
          },
          "metadata": {},
          "execution_count": 20
        }
      ]
    },
    {
      "cell_type": "markdown",
      "source": [
        "**With Feature Augmentation**\n"
      ],
      "metadata": {
        "id": "teiKaJ1BkaLd"
      }
    },
    {
      "cell_type": "code",
      "source": [
        "X = []\n",
        "y = []\n",
        "lr_train_aug_dataloader = DataLoader(train_aug_set, batch_size=1, shuffle=True)\n",
        "for batch in lr_train_aug_dataloader:\n",
        "  X_batch, y_batch = batch\n",
        "  X.append(X_batch.numpy().reshape([1, -1]))\n",
        "  y.append(y_batch.numpy().reshape([1, -1]))\n",
        "x_aug_train = np.concatenate(X)\n",
        "y_aug_train = np.concatenate(y)"
      ],
      "metadata": {
        "id": "Ber_gv1nkgqF"
      },
      "execution_count": null,
      "outputs": []
    },
    {
      "cell_type": "code",
      "source": [
        "X = []\n",
        "y = []\n",
        "lr_test_aug_dataloader = DataLoader(test_aug_set, batch_size=1, shuffle=False)\n",
        "for batch in lr_test_aug_dataloader:\n",
        "  X_batch, y_batch = batch\n",
        "  X.append(X_batch.numpy().reshape([1, -1]))\n",
        "  y.append(y_batch.numpy())\n",
        "\n",
        "x_aug_test = np.concatenate(X)\n",
        "y_aug_test = np.concatenate(y)"
      ],
      "metadata": {
        "id": "51ZSyAV7bFrg"
      },
      "execution_count": null,
      "outputs": []
    },
    {
      "cell_type": "code",
      "source": [
        "x_aug_test.shape"
      ],
      "metadata": {
        "colab": {
          "base_uri": "https://localhost:8080/"
        },
        "id": "vzI82JwEbLYm",
        "outputId": "ea1315fd-5502-4c97-aaaf-7e15273c89c1"
      },
      "execution_count": null,
      "outputs": [
        {
          "output_type": "execute_result",
          "data": {
            "text/plain": [
              "(3317, 1728)"
            ]
          },
          "metadata": {},
          "execution_count": 23
        }
      ]
    },
    {
      "cell_type": "markdown",
      "source": [
        "###Linear Regression without Regularization"
      ],
      "metadata": {
        "id": "mzU41sE6kMkK"
      }
    },
    {
      "cell_type": "code",
      "source": [
        "from sklearn.linear_model import LinearRegression \n",
        "from sklearn.linear_model import Ridge\n",
        "from sklearn.linear_model import Lasso\n",
        "from sklearn.linear_model import ElasticNet\n",
        "from sklearn import metrics"
      ],
      "metadata": {
        "id": "pKZq7Iaok1kI"
      },
      "execution_count": null,
      "outputs": []
    },
    {
      "cell_type": "code",
      "source": [
        "reg = LinearRegression() \n",
        "reg.fit(x_train, y_train) \n",
        "y_train_pred = reg.predict(x_train) \n",
        "y_test_pred = reg.predict(x_test) \n",
        "\n",
        "train_r2 = metrics.r2_score(y_train, y_train_pred)\n",
        "train_mse = metrics.mean_squared_error(y_train, y_train_pred)\n",
        "\n",
        "test_r2 = metrics.r2_score(y_test, y_test_pred)\n",
        "test_mse = metrics.mean_squared_error(y_test, y_test_pred)"
      ],
      "metadata": {
        "id": "IPEjnVkpmLPC"
      },
      "execution_count": null,
      "outputs": []
    },
    {
      "cell_type": "code",
      "source": [
        "print(\"The R2 of training data is \" + str(train_r2))\n",
        "print(\"The R2 of testing data is \" + str(test_r2))\n",
        "print(\"The MSE of training data is \" + str(train_mse))\n",
        "print(\"The MSE of testing data is \" + str(test_mse))\n",
        "print('Training Accuracy: {}'.format(reg.score(x_train, y_train)))\n",
        "print('Test Accuracy: {}'.format(reg.score(x_test, y_test)))"
      ],
      "metadata": {
        "colab": {
          "base_uri": "https://localhost:8080/"
        },
        "id": "V2oPs9hYpQ5G",
        "outputId": "6767b1c5-7cf8-4084-868f-b7d34722fe57"
      },
      "execution_count": null,
      "outputs": [
        {
          "output_type": "stream",
          "name": "stdout",
          "text": [
            "The R2 of training data is 3.7432267933438606e-10\n",
            "The R2 of testing data is -7.510338540328099\n",
            "The MSE of training data is 0.028720595\n",
            "The MSE of testing data is 0.03843539\n",
            "Training Accuracy: 0.9250185970746228\n",
            "Test Accuracy: 0.6535839733314462\n"
          ]
        }
      ]
    },
    {
      "cell_type": "code",
      "source": [
        "plt.plot(range(24), y_test_pred[0], label=\"prediction\")\n",
        "plt.plot(range(24), y_test[0], label=\"ground truth\")\n",
        "\n",
        "plt.xlabel('Timestamp')\n",
        "plt.ylabel('Target')\n",
        "plt.ylim([0, 0.3])\n",
        "plt.title('Comparison between prediction and groundtruth')\n",
        "plt.legend(loc=\"upper left\")"
      ],
      "metadata": {
        "colab": {
          "base_uri": "https://localhost:8080/",
          "height": 490
        },
        "id": "OrYpdT4Pp0bR",
        "outputId": "db0940ba-821d-4e98-eb55-89514d64cd91"
      },
      "execution_count": null,
      "outputs": [
        {
          "output_type": "execute_result",
          "data": {
            "text/plain": [
              "<matplotlib.legend.Legend at 0x7f4071c2d670>"
            ]
          },
          "metadata": {},
          "execution_count": 53
        },
        {
          "output_type": "display_data",
          "data": {
            "text/plain": [
              "<Figure size 640x480 with 1 Axes>"
            ],
            "image/png": "[encoded data removed]"
          },
          "metadata": {}
        }
      ]
    },
    {
      "cell_type": "code",
      "source": [
        "plt.plot(range(24), y_train_pred[0], label=\"prediction\")\n",
        "plt.plot(range(24), y_train[0], label=\"ground truth\")\n",
        "\n",
        "plt.xlabel('Timestamp')\n",
        "plt.ylabel('Target')\n",
        "# plt.ylim([0, 0.3])\n",
        "plt.title('Comparison between prediction and groundtruth')\n",
        "plt.legend(loc=\"upper left\")"
      ],
      "metadata": {
        "colab": {
          "base_uri": "https://localhost:8080/",
          "height": 490
        },
        "id": "yX7f830HM9Bv",
        "outputId": "1457201f-841c-4f4d-87cb-f053c7d5f55a"
      },
      "execution_count": null,
      "outputs": [
        {
          "output_type": "execute_result",
          "data": {
            "text/plain": [
              "<matplotlib.legend.Legend at 0x7f4071b7c100>"
            ]
          },
          "metadata": {},
          "execution_count": 54
        },
        {
          "output_type": "display_data",
          "data": {
            "text/plain": [
              "<Figure size 640x480 with 1 Axes>"
            ],
            "image/png": "[encoded data removed]"
          },
          "metadata": {}
        }
      ]
    },
    {
      "cell_type": "markdown",
      "source": [
        "###Linear Regression With Ridge Regularization"
      ],
      "metadata": {
        "id": "lQmfZZskkR9S"
      }
    },
    {
      "cell_type": "code",
      "source": [
        "ridge = Ridge() \n",
        "ridge.fit(x_train, y_train) \n",
        "y_train_pred = ridge.predict(x_train) \n",
        "y_test_pred = ridge.predict(x_test) \n",
        "\n",
        "train_r2 = metrics.r2_score(y_train, y_train_pred)\n",
        "train_mse = metrics.mean_squared_error(y_train, y_train_pred)\n",
        "\n",
        "test_r2 = metrics.r2_score(y_test, y_test_pred)\n",
        "test_mse = metrics.mean_squared_error(y_test, y_test_pred)"
      ],
      "metadata": {
        "id": "aniYwJiVkV3v"
      },
      "execution_count": null,
      "outputs": []
    },
    {
      "cell_type": "code",
      "source": [
        "print(\"The R2 of training data is \" + str(train_r2))\n",
        "print(\"The R2 of testing data is \" + str(test_r2))\n",
        "print(\"The MSE of training data is \" + str(train_mse))\n",
        "print(\"The MSE of testing data is \" + str(test_mse))\n",
        "print('Training Accuracy: {}'.format(ridge.score(x_train, y_train)))\n",
        "print('Test Accuracy: {}'.format(ridge.score(x_test, y_test)))"
      ],
      "metadata": {
        "colab": {
          "base_uri": "https://localhost:8080/"
        },
        "id": "PxGK19gxkYns",
        "outputId": "5ca489a3-745b-489b-91b1-58ac05304b5d"
      },
      "execution_count": null,
      "outputs": [
        {
          "output_type": "stream",
          "name": "stdout",
          "text": [
            "The R2 of training data is 0.9245586765796024\n",
            "The R2 of testing data is 0.6608929642579477\n",
            "The MSE of training data is 0.046531145\n",
            "The MSE of testing data is 0.039110143\n",
            "Training Accuracy: 0.9245586765796024\n",
            "Test Accuracy: 0.6608929642579477\n"
          ]
        }
      ]
    },
    {
      "cell_type": "markdown",
      "source": [
        "###Linear Regression with Feature Augmentation"
      ],
      "metadata": {
        "id": "243BJddLbW_c"
      }
    },
    {
      "cell_type": "code",
      "source": [
        "lr_aug = LinearRegression() \n",
        "lr_aug.fit(x_aug_train, y_aug_train) \n",
        "y_train_pred = lr_aug.predict(x_aug_train) \n",
        "y_test_pred = lr_aug.predict(x_aug_test) \n",
        "\n",
        "train_r2 = metrics.r2_score(y_aug_train, y_train_pred)\n",
        "train_mse = metrics.mean_squared_error(y_aug_train, y_train_pred)\n",
        "\n",
        "test_r2 = metrics.r2_score(y_aug_test, y_test_pred)\n",
        "test_mse = metrics.mean_squared_error(y_aug_test, y_test_pred)"
      ],
      "metadata": {
        "id": "umPpaJV3babL"
      },
      "execution_count": null,
      "outputs": []
    },
    {
      "cell_type": "code",
      "source": [
        "print(\"The R2 of training data is \" + str(train_r2))\n",
        "print(\"The R2 of testing data is \" + str(test_r2))\n",
        "print(\"The MSE of training data is \" + str(train_mse))\n",
        "print(\"The MSE of testing data is \" + str(test_mse))\n",
        "print('Training Accuracy: {}'.format(reg.score(x_train, y_train)))\n",
        "print('Test Accuracy: {}'.format(reg.score(x_test, y_test)))"
      ],
      "metadata": {
        "colab": {
          "base_uri": "https://localhost:8080/"
        },
        "id": "M-Digo0TcGNE",
        "outputId": "c188eb7c-2541-48cb-9995-8b3adea5d1f1"
      },
      "execution_count": null,
      "outputs": [
        {
          "output_type": "stream",
          "name": "stdout",
          "text": [
            "The R2 of training data is 0.5955139923888639\n",
            "The R2 of testing data is 0.43090996758926964\n",
            "The MSE of training data is 0.0024522\n",
            "The MSE of testing data is 0.005212622\n",
            "Training Accuracy: 0.9250185970746228\n",
            "Test Accuracy: 0.6535839733314462\n"
          ]
        }
      ]
    },
    {
      "cell_type": "markdown",
      "source": [
        "## Classification"
      ],
      "metadata": {
        "id": "1YucLHiPvB-K"
      }
    },
    {
      "cell_type": "code",
      "source": [
        "df"
      ],
      "metadata": {
        "id": "cYu24asnu3hr"
      },
      "execution_count": null,
      "outputs": []
    },
    {
      "cell_type": "code",
      "source": [
        "for i in range(10):\n",
        "  print(\"The \" + str(10*i) + \" percent quantile of price is \" + str(round(df['OT'].quantile(i/10),2)))"
      ],
      "metadata": {
        "colab": {
          "base_uri": "https://localhost:8080/"
        },
        "id": "eeJdTC5XvI8X",
        "outputId": "50450456-16a9-4be8-9412-6d3f1839dd11"
      },
      "execution_count": null,
      "outputs": [
        {
          "output_type": "stream",
          "name": "stdout",
          "text": [
            "The 0 percent quantile of price is -4.08\n",
            "The 10 percent quantile of price is 4.01\n",
            "The 20 percent quantile of price is 6.05\n",
            "The 30 percent quantile of price is 8.02\n",
            "The 40 percent quantile of price is 9.78\n",
            "The 50 percent quantile of price is 11.4\n",
            "The 60 percent quantile of price is 13.79\n",
            "The 70 percent quantile of price is 16.6\n",
            "The 80 percent quantile of price is 19.77\n",
            "The 90 percent quantile of price is 24.62\n"
          ]
        }
      ]
    },
    {
      "cell_type": "code",
      "source": [
        "df[\"OT\"].max()"
      ],
      "metadata": {
        "colab": {
          "base_uri": "https://localhost:8080/"
        },
        "id": "qQFDjZY7vOG1",
        "outputId": "01c5b4ec-8605-4aff-ae56-6bb7efcc6ae2"
      },
      "execution_count": null,
      "outputs": [
        {
          "output_type": "execute_result",
          "data": {
            "text/plain": [
              "46.00699996948242"
            ]
          },
          "metadata": {},
          "execution_count": 46
        }
      ]
    },
    {
      "cell_type": "code",
      "source": [
        "#divide oil temperature into groups by percentile\n",
        "c1 = df['OT'].quantile(0.25)\n",
        "c2 = df['OT'].quantile(0.50)\n",
        "c3 = df['OT'].quantile(0.75)\n",
        "def divide_OT(x):\n",
        "  if x < c1:\n",
        "    return 0\n",
        "  elif x < c2:\n",
        "    return 1\n",
        "  elif x < c3:\n",
        "    return 2\n",
        "  else:\n",
        "    return 3\n",
        "df[\"OT_group\"] = df[\"OT\"].apply(divide_OT).astype(\"float\")"
      ],
      "metadata": {
        "id": "w1tG73OtvUPM"
      },
      "execution_count": null,
      "outputs": []
    },
    {
      "cell_type": "code",
      "source": [
        "features = df.drop(columns = [\"date\",\"OT\",\"OT_group\"])\n",
        "OT_group = df[\"OT_group\"]\n",
        "seed = 42\n",
        "random_state = seed\n",
        "x_train, x_test, y_train, y_test = train_test_split(features, OT_group, test_size = 0.20, random_state=seed)"
      ],
      "metadata": {
        "id": "BSjyaz9Evlbm"
      },
      "execution_count": null,
      "outputs": []
    },
    {
      "cell_type": "code",
      "source": [
        "#Standarization and PCA\n",
        "scaler = StandardScaler()\n",
        "scaler.fit(x_train)\n",
        "scaled_x_train = scaler.transform(x_train)\n",
        "scaled_x_test = scaler.transform(x_test)\n",
        "\n",
        "pca = PCA(n_components=scaled_x_train.shape[1])\n",
        "pca_x_train = pca.fit_transform(scaled_x_train)"
      ],
      "metadata": {
        "id": "FC4EwK09wI91"
      },
      "execution_count": null,
      "outputs": []
    },
    {
      "cell_type": "code",
      "source": [
        "explained_variance_ratios =pca.explained_variance_ratio_\n",
        "cum_evr = np.cumsum(pca.explained_variance_ratio_)"
      ],
      "metadata": {
        "id": "Q9oIG5nvwSJc"
      },
      "execution_count": null,
      "outputs": []
    },
    {
      "cell_type": "code",
      "source": [
        "plt.figure(figsize=(15,10))\n",
        "n = scaled_x_train.shape[1]\n",
        "p = plt.plot(np.arange(1,7),cum_evr)\n",
        "plt.plot(np.arange(1,13), [0.95]*12)\n",
        "plt.title('explained_variance_ratio v.s number of component')\n",
        "plt.xlabel('number of component')\n",
        "plt.ylabel('explained_variance_ratio')"
      ],
      "metadata": {
        "id": "XEKq9oq-wWsI"
      },
      "execution_count": null,
      "outputs": []
    },
    {
      "cell_type": "code",
      "source": [
        "pca = PCA(n_components = 4)\n",
        "x_train_pca = pca.fit_transform(scaled_x_train)\n",
        "x_test_pca = pca.transform(scaled_x_test)"
      ],
      "metadata": {
        "id": "oLmoF_sBwcWh"
      },
      "execution_count": null,
      "outputs": []
    },
    {
      "cell_type": "code",
      "source": [
        "from sklearn.linear_model import LogisticRegression"
      ],
      "metadata": {
        "id": "B5FBE4umwuqQ"
      },
      "execution_count": null,
      "outputs": []
    },
    {
      "cell_type": "code",
      "source": [
        "log_reg_pca=LogisticRegression(penalty=\"l2\",solver='liblinear')\n",
        "log_reg_pca.fit(x_train_pca,y_train)\n",
        "y_pred = log_reg_pca.predict(x_test_pca)\n",
        "acc_reg_train = log_reg_pca.score(x_train_pca,y_train)\n",
        "acc_reg_test = log_reg_pca.score(x_test_pca,y_test)"
      ],
      "metadata": {
        "id": "MEQC59-Xwnej"
      },
      "execution_count": null,
      "outputs": []
    },
    {
      "cell_type": "code",
      "source": [
        "print('Train Accuracy: '+ str(acc_reg_train))\n",
        "print('Test Accuracy: '+ str(acc_reg_test))"
      ],
      "metadata": {
        "colab": {
          "base_uri": "https://localhost:8080/"
        },
        "id": "MMMN0fMQwoAz",
        "outputId": "7f8e08a6-e6c1-4d97-fe1f-b0a0362dea1b"
      },
      "execution_count": null,
      "outputs": [
        {
          "output_type": "stream",
          "name": "stdout",
          "text": [
            "Train Accuracy: 0.35376004592422505\n",
            "Test Accuracy: 0.3567738231917336\n"
          ]
        }
      ]
    },
    {
      "cell_type": "markdown",
      "source": [
        "## Random Forest"
      ],
      "metadata": {
        "id": "CPHzrA-NxNgG"
      }
    },
    {
      "cell_type": "code",
      "source": [
        "from sklearn.ensemble import RandomForestClassifier"
      ],
      "metadata": {
        "id": "N9BY0LecxWAq"
      },
      "execution_count": null,
      "outputs": []
    },
    {
      "cell_type": "code",
      "source": [
        "rf = RandomForestClassifier(n_estimators = 15, max_depth = 15)\n",
        "rf.fit(x_train, y_train)\n",
        "train_pred_rf = rf.predict(x_train) \n",
        "test_pred_rf = rf.predict(x_test)"
      ],
      "metadata": {
        "id": "RTw2P7dtyRtC"
      },
      "execution_count": null,
      "outputs": []
    },
    {
      "cell_type": "code",
      "source": [
        "acc_rf_train=rf.score(x_train,y_train)\n",
        "acc_rf_test=rf.score(x_test,y_test)\n",
        "print('Train Accuracy: '+ str(acc_rf_train))\n",
        "print('Test Accuracy: ' + str(acc_rf_test))"
      ],
      "metadata": {
        "colab": {
          "base_uri": "https://localhost:8080/"
        },
        "id": "BsJI3mYxyzOq",
        "outputId": "8954b9cd-39dd-47c1-fa30-a0531a16154c"
      },
      "execution_count": null,
      "outputs": [
        {
          "output_type": "stream",
          "name": "stdout",
          "text": [
            "Train Accuracy: 0.8987514351320322\n",
            "Test Accuracy: 0.5315729047072331\n"
          ]
        }
      ]
    },
    {
      "cell_type": "markdown",
      "source": [
        "## KNN"
      ],
      "metadata": {
        "id": "QSgtQOVg1jmm"
      }
    },
    {
      "cell_type": "code",
      "source": [
        "from sklearn.neighbors import KNeighborsClassifier\n",
        "from sklearn.metrics import accuracy_score"
      ],
      "metadata": {
        "id": "QPXakt6a1myN"
      },
      "execution_count": null,
      "outputs": []
    },
    {
      "cell_type": "code",
      "source": [
        "KNN = KNeighborsClassifier(n_neighbors=15, p = 2)\n",
        "KNN.fit(x_train, y_train)\n",
        "y_test = KNN.predict(x_test)\n",
        "accuracy = accuracy_score(y_test, y_pred)\n",
        "print(\"Accuracy:\", accuracy)"
      ],
      "metadata": {
        "colab": {
          "base_uri": "https://localhost:8080/"
        },
        "id": "njw8Cp4f1ksj",
        "outputId": "810e0a67-dfb9-4583-9812-7ab82425f8f2"
      },
      "execution_count": null,
      "outputs": [
        {
          "output_type": "stream",
          "name": "stdout",
          "text": [
            "Accuracy: 0.40470723306544204\n"
          ]
        }
      ]
    },
    {
      "cell_type": "code",
      "source": [],
      "metadata": {
        "id": "jFUvFfAS2684"
      },
      "execution_count": null,
      "outputs": []
    }
  ]
}