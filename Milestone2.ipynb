{
  "nbformat": 4,
  "nbformat_minor": 0,
  "metadata": {
    "colab": {
      "provenance": []
    },
    "kernelspec": {
      "name": "python3",
      "display_name": "Python 3"
    },
    "language_info": {
      "name": "python"
    }
  },
  "cells": [
    {
      "cell_type": "code",
      "source": [
        "# import libraries and packages\n",
        "import pandas as pd\n",
        "import numpy as np\n",
        "import datetime as dt\n",
        "import matplotlib.pyplot as plt\n",
        "import math\n",
        "import torch\n",
        "import torch.nn as nn\n",
        "import torch.optim as optim\n",
        "import torch.nn.functional as F\n",
        "from torch.utils.data import Dataset, DataLoader"
      ],
      "metadata": {
        "id": "4x0FxKFfWfNN"
      },
      "execution_count": null,
      "outputs": []
    },
    {
      "cell_type": "code",
      "execution_count": null,
      "metadata": {
        "id": "80lKYNEDWRIQ",
        "colab": {
          "base_uri": "https://localhost:8080/",
          "height": 206
        },
        "outputId": "cd8d8464-54f7-4194-d1ff-b922d76615cd"
      },
      "outputs": [
        {
          "output_type": "execute_result",
          "data": {
            "text/plain": [
              "                  date   HUFL   HULL   MUFL   MULL   LUFL   LULL         OT\n",
              "0  2016-07-01 00:00:00  5.827  2.009  1.599  0.462  4.203  1.340  30.531000\n",
              "1  2016-07-01 01:00:00  5.693  2.076  1.492  0.426  4.142  1.371  27.787001\n",
              "2  2016-07-01 02:00:00  5.157  1.741  1.279  0.355  3.777  1.218  27.787001\n",
              "3  2016-07-01 03:00:00  5.090  1.942  1.279  0.391  3.807  1.279  25.044001\n",
              "4  2016-07-01 04:00:00  5.358  1.942  1.492  0.462  3.868  1.279  21.948000"
            ],
            "text/html": [
              "\n",
              "  <div id=\"df-91622e6e-e435-41a4-bc4c-b3ae72ffee42\">\n",
              "    <div class=\"colab-df-container\">\n",
              "      <div>\n",
              "<style scoped>\n",
              "    .dataframe tbody tr th:only-of-type {\n",
              "        vertical-align: middle;\n",
              "    }\n",
              "\n",
              "    .dataframe tbody tr th {\n",
              "        vertical-align: top;\n",
              "    }\n",
              "\n",
              "    .dataframe thead th {\n",
              "        text-align: right;\n",
              "    }\n",
              "</style>\n",
              "<table border=\"1\" class=\"dataframe\">\n",
              "  <thead>\n",
              "    <tr style=\"text-align: right;\">\n",
              "      <th></th>\n",
              "      <th>date</th>\n",
              "      <th>HUFL</th>\n",
              "      <th>HULL</th>\n",
              "      <th>MUFL</th>\n",
              "      <th>MULL</th>\n",
              "      <th>LUFL</th>\n",
              "      <th>LULL</th>\n",
              "      <th>OT</th>\n",
              "    </tr>\n",
              "  </thead>\n",
              "  <tbody>\n",
              "    <tr>\n",
              "      <th>0</th>\n",
              "      <td>2016-07-01 00:00:00</td>\n",
              "      <td>5.827</td>\n",
              "      <td>2.009</td>\n",
              "      <td>1.599</td>\n",
              "      <td>0.462</td>\n",
              "      <td>4.203</td>\n",
              "      <td>1.340</td>\n",
              "      <td>30.531000</td>\n",
              "    </tr>\n",
              "    <tr>\n",
              "      <th>1</th>\n",
              "      <td>2016-07-01 01:00:00</td>\n",
              "      <td>5.693</td>\n",
              "      <td>2.076</td>\n",
              "      <td>1.492</td>\n",
              "      <td>0.426</td>\n",
              "      <td>4.142</td>\n",
              "      <td>1.371</td>\n",
              "      <td>27.787001</td>\n",
              "    </tr>\n",
              "    <tr>\n",
              "      <th>2</th>\n",
              "      <td>2016-07-01 02:00:00</td>\n",
              "      <td>5.157</td>\n",
              "      <td>1.741</td>\n",
              "      <td>1.279</td>\n",
              "      <td>0.355</td>\n",
              "      <td>3.777</td>\n",
              "      <td>1.218</td>\n",
              "      <td>27.787001</td>\n",
              "    </tr>\n",
              "    <tr>\n",
              "      <th>3</th>\n",
              "      <td>2016-07-01 03:00:00</td>\n",
              "      <td>5.090</td>\n",
              "      <td>1.942</td>\n",
              "      <td>1.279</td>\n",
              "      <td>0.391</td>\n",
              "      <td>3.807</td>\n",
              "      <td>1.279</td>\n",
              "      <td>25.044001</td>\n",
              "    </tr>\n",
              "    <tr>\n",
              "      <th>4</th>\n",
              "      <td>2016-07-01 04:00:00</td>\n",
              "      <td>5.358</td>\n",
              "      <td>1.942</td>\n",
              "      <td>1.492</td>\n",
              "      <td>0.462</td>\n",
              "      <td>3.868</td>\n",
              "      <td>1.279</td>\n",
              "      <td>21.948000</td>\n",
              "    </tr>\n",
              "  </tbody>\n",
              "</table>\n",
              "</div>\n",
              "      <button class=\"colab-df-convert\" onclick=\"convertToInteractive('df-91622e6e-e435-41a4-bc4c-b3ae72ffee42')\"\n",
              "              title=\"Convert this dataframe to an interactive table.\"\n",
              "              style=\"display:none;\">\n",
              "        \n",
              "  <svg xmlns=\"http://www.w3.org/2000/svg\" height=\"24px\"viewBox=\"0 0 24 24\"\n",
              "       width=\"24px\">\n",
              "    <path d=\"M0 0h24v24H0V0z\" fill=\"none\"/>\n",
              "    <path d=\"M18.56 5.44l.94 2.06.94-2.06 2.06-.94-2.06-.94-.94-2.06-.94 2.06-2.06.94zm-11 1L8.5 8.5l.94-2.06 2.06-.94-2.06-.94L8.5 2.5l-.94 2.06-2.06.94zm10 10l.94 2.06.94-2.06 2.06-.94-2.06-.94-.94-2.06-.94 2.06-2.06.94z\"/><path d=\"M17.41 7.96l-1.37-1.37c-.4-.4-.92-.59-1.43-.59-.52 0-1.04.2-1.43.59L10.3 9.45l-7.72 7.72c-.78.78-.78 2.05 0 2.83L4 21.41c.39.39.9.59 1.41.59.51 0 1.02-.2 1.41-.59l7.78-7.78 2.81-2.81c.8-.78.8-2.07 0-2.86zM5.41 20L4 18.59l7.72-7.72 1.47 1.35L5.41 20z\"/>\n",
              "  </svg>\n",
              "      </button>\n",
              "      \n",
              "  <style>\n",
              "    .colab-df-container {\n",
              "      display:flex;\n",
              "      flex-wrap:wrap;\n",
              "      gap: 12px;\n",
              "    }\n",
              "\n",
              "    .colab-df-convert {\n",
              "      background-color: #E8F0FE;\n",
              "      border: none;\n",
              "      border-radius: 50%;\n",
              "      cursor: pointer;\n",
              "      display: none;\n",
              "      fill: #1967D2;\n",
              "      height: 32px;\n",
              "      padding: 0 0 0 0;\n",
              "      width: 32px;\n",
              "    }\n",
              "\n",
              "    .colab-df-convert:hover {\n",
              "      background-color: #E2EBFA;\n",
              "      box-shadow: 0px 1px 2px rgba(60, 64, 67, 0.3), 0px 1px 3px 1px rgba(60, 64, 67, 0.15);\n",
              "      fill: #174EA6;\n",
              "    }\n",
              "\n",
              "    [theme=dark] .colab-df-convert {\n",
              "      background-color: #3B4455;\n",
              "      fill: #D2E3FC;\n",
              "    }\n",
              "\n",
              "    [theme=dark] .colab-df-convert:hover {\n",
              "      background-color: #434B5C;\n",
              "      box-shadow: 0px 1px 3px 1px rgba(0, 0, 0, 0.15);\n",
              "      filter: drop-shadow(0px 1px 2px rgba(0, 0, 0, 0.3));\n",
              "      fill: #FFFFFF;\n",
              "    }\n",
              "  </style>\n",
              "\n",
              "      <script>\n",
              "        const buttonEl =\n",
              "          document.querySelector('#df-91622e6e-e435-41a4-bc4c-b3ae72ffee42 button.colab-df-convert');\n",
              "        buttonEl.style.display =\n",
              "          google.colab.kernel.accessAllowed ? 'block' : 'none';\n",
              "\n",
              "        async function convertToInteractive(key) {\n",
              "          const element = document.querySelector('#df-91622e6e-e435-41a4-bc4c-b3ae72ffee42');\n",
              "          const dataTable =\n",
              "            await google.colab.kernel.invokeFunction('convertToInteractive',\n",
              "                                                     [key], {});\n",
              "          if (!dataTable) return;\n",
              "\n",
              "          const docLinkHtml = 'Like what you see? Visit the ' +\n",
              "            '<a target=\"_blank\" href=https://colab.research.google.com/notebooks/data_table.ipynb>data table notebook</a>'\n",
              "            + ' to learn more about interactive tables.';\n",
              "          element.innerHTML = '';\n",
              "          dataTable['output_type'] = 'display_data';\n",
              "          await google.colab.output.renderOutput(dataTable, element);\n",
              "          const docLink = document.createElement('div');\n",
              "          docLink.innerHTML = docLinkHtml;\n",
              "          element.appendChild(docLink);\n",
              "        }\n",
              "      </script>\n",
              "    </div>\n",
              "  </div>\n",
              "  "
            ]
          },
          "metadata": {},
          "execution_count": 3
        }
      ],
      "source": [
        "# import dataset\n",
        "# please download the dataset here: https://github.com/zhouhaoyi/ETDataset/tree/main/ETT-small\n",
        "df = pd.read_csv(\"ETTh1.csv\")\n",
        "df.head()"
      ]
    },
    {
      "cell_type": "code",
      "source": [
        "df.tail()"
      ],
      "metadata": {
        "colab": {
          "base_uri": "https://localhost:8080/",
          "height": 206
        },
        "id": "xjvNDLkhedyp",
        "outputId": "f1aa03db-4a81-4615-849e-01adea4e6967"
      },
      "execution_count": null,
      "outputs": [
        {
          "output_type": "execute_result",
          "data": {
            "text/plain": [
              "                      date    HUFL   HULL   MUFL   MULL   LUFL   LULL      OT\n",
              "17415  2018-06-26 15:00:00  -1.674  3.550 -5.615  2.132  3.472  1.523  10.904\n",
              "17416  2018-06-26 16:00:00  -5.492  4.287 -9.132  2.274  3.533  1.675  11.044\n",
              "17417  2018-06-26 17:00:00   2.813  3.818 -0.817  2.097  3.716  1.523  10.271\n",
              "17418  2018-06-26 18:00:00   9.243  3.818  5.472  2.097  3.655  1.432   9.778\n",
              "17419  2018-06-26 19:00:00  10.114  3.550  6.183  1.564  3.716  1.462   9.567"
            ],
            "text/html": [
              "\n",
              "  <div id=\"df-86c9aaac-415e-4e45-9084-b119ab621b97\">\n",
              "    <div class=\"colab-df-container\">\n",
              "      <div>\n",
              "<style scoped>\n",
              "    .dataframe tbody tr th:only-of-type {\n",
              "        vertical-align: middle;\n",
              "    }\n",
              "\n",
              "    .dataframe tbody tr th {\n",
              "        vertical-align: top;\n",
              "    }\n",
              "\n",
              "    .dataframe thead th {\n",
              "        text-align: right;\n",
              "    }\n",
              "</style>\n",
              "<table border=\"1\" class=\"dataframe\">\n",
              "  <thead>\n",
              "    <tr style=\"text-align: right;\">\n",
              "      <th></th>\n",
              "      <th>date</th>\n",
              "      <th>HUFL</th>\n",
              "      <th>HULL</th>\n",
              "      <th>MUFL</th>\n",
              "      <th>MULL</th>\n",
              "      <th>LUFL</th>\n",
              "      <th>LULL</th>\n",
              "      <th>OT</th>\n",
              "    </tr>\n",
              "  </thead>\n",
              "  <tbody>\n",
              "    <tr>\n",
              "      <th>17415</th>\n",
              "      <td>2018-06-26 15:00:00</td>\n",
              "      <td>-1.674</td>\n",
              "      <td>3.550</td>\n",
              "      <td>-5.615</td>\n",
              "      <td>2.132</td>\n",
              "      <td>3.472</td>\n",
              "      <td>1.523</td>\n",
              "      <td>10.904</td>\n",
              "    </tr>\n",
              "    <tr>\n",
              "      <th>17416</th>\n",
              "      <td>2018-06-26 16:00:00</td>\n",
              "      <td>-5.492</td>\n",
              "      <td>4.287</td>\n",
              "      <td>-9.132</td>\n",
              "      <td>2.274</td>\n",
              "      <td>3.533</td>\n",
              "      <td>1.675</td>\n",
              "      <td>11.044</td>\n",
              "    </tr>\n",
              "    <tr>\n",
              "      <th>17417</th>\n",
              "      <td>2018-06-26 17:00:00</td>\n",
              "      <td>2.813</td>\n",
              "      <td>3.818</td>\n",
              "      <td>-0.817</td>\n",
              "      <td>2.097</td>\n",
              "      <td>3.716</td>\n",
              "      <td>1.523</td>\n",
              "      <td>10.271</td>\n",
              "    </tr>\n",
              "    <tr>\n",
              "      <th>17418</th>\n",
              "      <td>2018-06-26 18:00:00</td>\n",
              "      <td>9.243</td>\n",
              "      <td>3.818</td>\n",
              "      <td>5.472</td>\n",
              "      <td>2.097</td>\n",
              "      <td>3.655</td>\n",
              "      <td>1.432</td>\n",
              "      <td>9.778</td>\n",
              "    </tr>\n",
              "    <tr>\n",
              "      <th>17419</th>\n",
              "      <td>2018-06-26 19:00:00</td>\n",
              "      <td>10.114</td>\n",
              "      <td>3.550</td>\n",
              "      <td>6.183</td>\n",
              "      <td>1.564</td>\n",
              "      <td>3.716</td>\n",
              "      <td>1.462</td>\n",
              "      <td>9.567</td>\n",
              "    </tr>\n",
              "  </tbody>\n",
              "</table>\n",
              "</div>\n",
              "      <button class=\"colab-df-convert\" onclick=\"convertToInteractive('df-86c9aaac-415e-4e45-9084-b119ab621b97')\"\n",
              "              title=\"Convert this dataframe to an interactive table.\"\n",
              "              style=\"display:none;\">\n",
              "        \n",
              "  <svg xmlns=\"http://www.w3.org/2000/svg\" height=\"24px\"viewBox=\"0 0 24 24\"\n",
              "       width=\"24px\">\n",
              "    <path d=\"M0 0h24v24H0V0z\" fill=\"none\"/>\n",
              "    <path d=\"M18.56 5.44l.94 2.06.94-2.06 2.06-.94-2.06-.94-.94-2.06-.94 2.06-2.06.94zm-11 1L8.5 8.5l.94-2.06 2.06-.94-2.06-.94L8.5 2.5l-.94 2.06-2.06.94zm10 10l.94 2.06.94-2.06 2.06-.94-2.06-.94-.94-2.06-.94 2.06-2.06.94z\"/><path d=\"M17.41 7.96l-1.37-1.37c-.4-.4-.92-.59-1.43-.59-.52 0-1.04.2-1.43.59L10.3 9.45l-7.72 7.72c-.78.78-.78 2.05 0 2.83L4 21.41c.39.39.9.59 1.41.59.51 0 1.02-.2 1.41-.59l7.78-7.78 2.81-2.81c.8-.78.8-2.07 0-2.86zM5.41 20L4 18.59l7.72-7.72 1.47 1.35L5.41 20z\"/>\n",
              "  </svg>\n",
              "      </button>\n",
              "      \n",
              "  <style>\n",
              "    .colab-df-container {\n",
              "      display:flex;\n",
              "      flex-wrap:wrap;\n",
              "      gap: 12px;\n",
              "    }\n",
              "\n",
              "    .colab-df-convert {\n",
              "      background-color: #E8F0FE;\n",
              "      border: none;\n",
              "      border-radius: 50%;\n",
              "      cursor: pointer;\n",
              "      display: none;\n",
              "      fill: #1967D2;\n",
              "      height: 32px;\n",
              "      padding: 0 0 0 0;\n",
              "      width: 32px;\n",
              "    }\n",
              "\n",
              "    .colab-df-convert:hover {\n",
              "      background-color: #E2EBFA;\n",
              "      box-shadow: 0px 1px 2px rgba(60, 64, 67, 0.3), 0px 1px 3px 1px rgba(60, 64, 67, 0.15);\n",
              "      fill: #174EA6;\n",
              "    }\n",
              "\n",
              "    [theme=dark] .colab-df-convert {\n",
              "      background-color: #3B4455;\n",
              "      fill: #D2E3FC;\n",
              "    }\n",
              "\n",
              "    [theme=dark] .colab-df-convert:hover {\n",
              "      background-color: #434B5C;\n",
              "      box-shadow: 0px 1px 3px 1px rgba(0, 0, 0, 0.15);\n",
              "      filter: drop-shadow(0px 1px 2px rgba(0, 0, 0, 0.3));\n",
              "      fill: #FFFFFF;\n",
              "    }\n",
              "  </style>\n",
              "\n",
              "      <script>\n",
              "        const buttonEl =\n",
              "          document.querySelector('#df-86c9aaac-415e-4e45-9084-b119ab621b97 button.colab-df-convert');\n",
              "        buttonEl.style.display =\n",
              "          google.colab.kernel.accessAllowed ? 'block' : 'none';\n",
              "\n",
              "        async function convertToInteractive(key) {\n",
              "          const element = document.querySelector('#df-86c9aaac-415e-4e45-9084-b119ab621b97');\n",
              "          const dataTable =\n",
              "            await google.colab.kernel.invokeFunction('convertToInteractive',\n",
              "                                                     [key], {});\n",
              "          if (!dataTable) return;\n",
              "\n",
              "          const docLinkHtml = 'Like what you see? Visit the ' +\n",
              "            '<a target=\"_blank\" href=https://colab.research.google.com/notebooks/data_table.ipynb>data table notebook</a>'\n",
              "            + ' to learn more about interactive tables.';\n",
              "          element.innerHTML = '';\n",
              "          dataTable['output_type'] = 'display_data';\n",
              "          await google.colab.output.renderOutput(dataTable, element);\n",
              "          const docLink = document.createElement('div');\n",
              "          docLink.innerHTML = docLinkHtml;\n",
              "          element.appendChild(docLink);\n",
              "        }\n",
              "      </script>\n",
              "    </div>\n",
              "  </div>\n",
              "  "
            ]
          },
          "metadata": {},
          "execution_count": 3
        }
      ]
    },
    {
      "cell_type": "code",
      "source": [
        "len(df)"
      ],
      "metadata": {
        "colab": {
          "base_uri": "https://localhost:8080/"
        },
        "id": "QDFUcUL-eTR3",
        "outputId": "7db42ec5-69d9-4410-b56a-6fcedcce492b"
      },
      "execution_count": null,
      "outputs": [
        {
          "output_type": "execute_result",
          "data": {
            "text/plain": [
              "17420"
            ]
          },
          "metadata": {},
          "execution_count": 4
        }
      ]
    },
    {
      "cell_type": "code",
      "source": [
        "df[\"OT\"].max()"
      ],
      "metadata": {
        "colab": {
          "base_uri": "https://localhost:8080/"
        },
        "id": "D1Xv03pUO3rC",
        "outputId": "1e715dba-b16d-4be7-f22c-817ec30bc42c"
      },
      "execution_count": null,
      "outputs": [
        {
          "output_type": "execute_result",
          "data": {
            "text/plain": [
              "46.00699996948242"
            ]
          },
          "metadata": {},
          "execution_count": 42
        }
      ]
    },
    {
      "cell_type": "code",
      "source": [
        "df_2 = pd.read_csv(\"ETTm1.csv\")\n",
        "df_2.head()"
      ],
      "metadata": {
        "colab": {
          "base_uri": "https://localhost:8080/",
          "height": 206
        },
        "id": "76auQDIc-xhX",
        "outputId": "2c344b99-fc80-4920-ac79-ad54383944a4"
      },
      "execution_count": null,
      "outputs": [
        {
          "output_type": "execute_result",
          "data": {
            "text/plain": [
              "                  date   HUFL   HULL   MUFL   MULL   LUFL   LULL         OT\n",
              "0  2016-07-01 00:00:00  5.827  2.009  1.599  0.462  4.203  1.340  30.531000\n",
              "1  2016-07-01 00:15:00  5.760  2.076  1.492  0.426  4.264  1.401  30.459999\n",
              "2  2016-07-01 00:30:00  5.760  1.942  1.492  0.391  4.234  1.310  30.038000\n",
              "3  2016-07-01 00:45:00  5.760  1.942  1.492  0.426  4.234  1.310  27.013000\n",
              "4  2016-07-01 01:00:00  5.693  2.076  1.492  0.426  4.142  1.371  27.787001"
            ],
            "text/html": [
              "\n",
              "  <div id=\"df-39358fac-ae20-41f3-97da-77f4a1e6c992\">\n",
              "    <div class=\"colab-df-container\">\n",
              "      <div>\n",
              "<style scoped>\n",
              "    .dataframe tbody tr th:only-of-type {\n",
              "        vertical-align: middle;\n",
              "    }\n",
              "\n",
              "    .dataframe tbody tr th {\n",
              "        vertical-align: top;\n",
              "    }\n",
              "\n",
              "    .dataframe thead th {\n",
              "        text-align: right;\n",
              "    }\n",
              "</style>\n",
              "<table border=\"1\" class=\"dataframe\">\n",
              "  <thead>\n",
              "    <tr style=\"text-align: right;\">\n",
              "      <th></th>\n",
              "      <th>date</th>\n",
              "      <th>HUFL</th>\n",
              "      <th>HULL</th>\n",
              "      <th>MUFL</th>\n",
              "      <th>MULL</th>\n",
              "      <th>LUFL</th>\n",
              "      <th>LULL</th>\n",
              "      <th>OT</th>\n",
              "    </tr>\n",
              "  </thead>\n",
              "  <tbody>\n",
              "    <tr>\n",
              "      <th>0</th>\n",
              "      <td>2016-07-01 00:00:00</td>\n",
              "      <td>5.827</td>\n",
              "      <td>2.009</td>\n",
              "      <td>1.599</td>\n",
              "      <td>0.462</td>\n",
              "      <td>4.203</td>\n",
              "      <td>1.340</td>\n",
              "      <td>30.531000</td>\n",
              "    </tr>\n",
              "    <tr>\n",
              "      <th>1</th>\n",
              "      <td>2016-07-01 00:15:00</td>\n",
              "      <td>5.760</td>\n",
              "      <td>2.076</td>\n",
              "      <td>1.492</td>\n",
              "      <td>0.426</td>\n",
              "      <td>4.264</td>\n",
              "      <td>1.401</td>\n",
              "      <td>30.459999</td>\n",
              "    </tr>\n",
              "    <tr>\n",
              "      <th>2</th>\n",
              "      <td>2016-07-01 00:30:00</td>\n",
              "      <td>5.760</td>\n",
              "      <td>1.942</td>\n",
              "      <td>1.492</td>\n",
              "      <td>0.391</td>\n",
              "      <td>4.234</td>\n",
              "      <td>1.310</td>\n",
              "      <td>30.038000</td>\n",
              "    </tr>\n",
              "    <tr>\n",
              "      <th>3</th>\n",
              "      <td>2016-07-01 00:45:00</td>\n",
              "      <td>5.760</td>\n",
              "      <td>1.942</td>\n",
              "      <td>1.492</td>\n",
              "      <td>0.426</td>\n",
              "      <td>4.234</td>\n",
              "      <td>1.310</td>\n",
              "      <td>27.013000</td>\n",
              "    </tr>\n",
              "    <tr>\n",
              "      <th>4</th>\n",
              "      <td>2016-07-01 01:00:00</td>\n",
              "      <td>5.693</td>\n",
              "      <td>2.076</td>\n",
              "      <td>1.492</td>\n",
              "      <td>0.426</td>\n",
              "      <td>4.142</td>\n",
              "      <td>1.371</td>\n",
              "      <td>27.787001</td>\n",
              "    </tr>\n",
              "  </tbody>\n",
              "</table>\n",
              "</div>\n",
              "      <button class=\"colab-df-convert\" onclick=\"convertToInteractive('df-39358fac-ae20-41f3-97da-77f4a1e6c992')\"\n",
              "              title=\"Convert this dataframe to an interactive table.\"\n",
              "              style=\"display:none;\">\n",
              "        \n",
              "  <svg xmlns=\"http://www.w3.org/2000/svg\" height=\"24px\"viewBox=\"0 0 24 24\"\n",
              "       width=\"24px\">\n",
              "    <path d=\"M0 0h24v24H0V0z\" fill=\"none\"/>\n",
              "    <path d=\"M18.56 5.44l.94 2.06.94-2.06 2.06-.94-2.06-.94-.94-2.06-.94 2.06-2.06.94zm-11 1L8.5 8.5l.94-2.06 2.06-.94-2.06-.94L8.5 2.5l-.94 2.06-2.06.94zm10 10l.94 2.06.94-2.06 2.06-.94-2.06-.94-.94-2.06-.94 2.06-2.06.94z\"/><path d=\"M17.41 7.96l-1.37-1.37c-.4-.4-.92-.59-1.43-.59-.52 0-1.04.2-1.43.59L10.3 9.45l-7.72 7.72c-.78.78-.78 2.05 0 2.83L4 21.41c.39.39.9.59 1.41.59.51 0 1.02-.2 1.41-.59l7.78-7.78 2.81-2.81c.8-.78.8-2.07 0-2.86zM5.41 20L4 18.59l7.72-7.72 1.47 1.35L5.41 20z\"/>\n",
              "  </svg>\n",
              "      </button>\n",
              "      \n",
              "  <style>\n",
              "    .colab-df-container {\n",
              "      display:flex;\n",
              "      flex-wrap:wrap;\n",
              "      gap: 12px;\n",
              "    }\n",
              "\n",
              "    .colab-df-convert {\n",
              "      background-color: #E8F0FE;\n",
              "      border: none;\n",
              "      border-radius: 50%;\n",
              "      cursor: pointer;\n",
              "      display: none;\n",
              "      fill: #1967D2;\n",
              "      height: 32px;\n",
              "      padding: 0 0 0 0;\n",
              "      width: 32px;\n",
              "    }\n",
              "\n",
              "    .colab-df-convert:hover {\n",
              "      background-color: #E2EBFA;\n",
              "      box-shadow: 0px 1px 2px rgba(60, 64, 67, 0.3), 0px 1px 3px 1px rgba(60, 64, 67, 0.15);\n",
              "      fill: #174EA6;\n",
              "    }\n",
              "\n",
              "    [theme=dark] .colab-df-convert {\n",
              "      background-color: #3B4455;\n",
              "      fill: #D2E3FC;\n",
              "    }\n",
              "\n",
              "    [theme=dark] .colab-df-convert:hover {\n",
              "      background-color: #434B5C;\n",
              "      box-shadow: 0px 1px 3px 1px rgba(0, 0, 0, 0.15);\n",
              "      filter: drop-shadow(0px 1px 2px rgba(0, 0, 0, 0.3));\n",
              "      fill: #FFFFFF;\n",
              "    }\n",
              "  </style>\n",
              "\n",
              "      <script>\n",
              "        const buttonEl =\n",
              "          document.querySelector('#df-39358fac-ae20-41f3-97da-77f4a1e6c992 button.colab-df-convert');\n",
              "        buttonEl.style.display =\n",
              "          google.colab.kernel.accessAllowed ? 'block' : 'none';\n",
              "\n",
              "        async function convertToInteractive(key) {\n",
              "          const element = document.querySelector('#df-39358fac-ae20-41f3-97da-77f4a1e6c992');\n",
              "          const dataTable =\n",
              "            await google.colab.kernel.invokeFunction('convertToInteractive',\n",
              "                                                     [key], {});\n",
              "          if (!dataTable) return;\n",
              "\n",
              "          const docLinkHtml = 'Like what you see? Visit the ' +\n",
              "            '<a target=\"_blank\" href=https://colab.research.google.com/notebooks/data_table.ipynb>data table notebook</a>'\n",
              "            + ' to learn more about interactive tables.';\n",
              "          element.innerHTML = '';\n",
              "          dataTable['output_type'] = 'display_data';\n",
              "          await google.colab.output.renderOutput(dataTable, element);\n",
              "          const docLink = document.createElement('div');\n",
              "          docLink.innerHTML = docLinkHtml;\n",
              "          element.appendChild(docLink);\n",
              "        }\n",
              "      </script>\n",
              "    </div>\n",
              "  </div>\n",
              "  "
            ]
          },
          "metadata": {},
          "execution_count": 23
        }
      ]
    },
    {
      "cell_type": "code",
      "source": [],
      "metadata": {
        "id": "B_IF0taQ_a1V"
      },
      "execution_count": null,
      "outputs": []
    },
    {
      "cell_type": "code",
      "source": [
        "len(df_2)"
      ],
      "metadata": {
        "colab": {
          "base_uri": "https://localhost:8080/"
        },
        "id": "oggbRhZF-710",
        "outputId": "02d23296-82bb-4571-816c-78a2aa18b1b0"
      },
      "execution_count": null,
      "outputs": [
        {
          "output_type": "execute_result",
          "data": {
            "text/plain": [
              "69680"
            ]
          },
          "metadata": {},
          "execution_count": 24
        }
      ]
    },
    {
      "cell_type": "markdown",
      "source": [
        "##DataLoader"
      ],
      "metadata": {
        "id": "1nCKeUiN4WAA"
      }
    },
    {
      "cell_type": "code",
      "source": [
        "from sklearn.preprocessing import StandardScaler\n",
        "from sklearn.preprocessing import MinMaxScaler"
      ],
      "metadata": {
        "id": "FSD3Qnuix17j"
      },
      "execution_count": null,
      "outputs": []
    },
    {
      "cell_type": "code",
      "source": [
        "class Dataset_ETTh1(Dataset):\n",
        "  def __init__(self, data, seq_len=None, label_len=None, gaussian_noise=None): \n",
        "    self.data = data\n",
        "\n",
        "    # Use the data of the first 6 days to predict the OT of the seventh day as default\n",
        "    if seq_len == None:\n",
        "      self.seq_len = 24*6\n",
        "    else:\n",
        "      self.seq_len = seq_len\n",
        "\n",
        "    if label_len == None:     \n",
        "      self.label_len = 24\n",
        "    else:\n",
        "      self.label_len = label_len\n",
        "\n",
        "    # the standard deviation of the noise added to the dataset\n",
        "    if gaussian_noise == None:\n",
        "      self.gaussian_noise = 0\n",
        "    else:\n",
        "      self.gaussian_noise = gaussian_noise\n",
        "\n",
        "  def __len__(self):\n",
        "    return len(self.data) - self.seq_len - self.label_len + 1\n",
        "\n",
        "  def __getitem__(self, idx):\n",
        "    # add random shift to the dataset\n",
        "    noise_X = torch.randn(self.seq_len, self.data.shape[-1]) * self.gaussian_noise\n",
        "    noise_y = torch.randn(self.label_len,) * self.gaussian_noise\n",
        "\n",
        "    X = torch.Tensor(self.data[idx:idx+self.seq_len, :])\n",
        "    y = torch.Tensor(self.data[idx+self.seq_len:idx+self.seq_len+self.label_len, -1]) # Only use row OT as label\n",
        "\n",
        "    assert noise_X.shape == X.shape\n",
        "    assert noise_y.shape == y.shape\n",
        "\n",
        "    X = X + noise_X\n",
        "    y = y + noise_y\n",
        "    return X, y\n"
      ],
      "metadata": {
        "id": "PvVcm-X0fCO7"
      },
      "execution_count": null,
      "outputs": []
    },
    {
      "cell_type": "code",
      "source": [
        "# Split the dataset in the ratio train:val:test = 6:2:2\n",
        "train_idx = int(len(df) * 0.6)\n",
        "val_idx = int(len(df) * 0.8)\n",
        "\n",
        "df_data = df.drop(columns=['date'])\n",
        "\n",
        "train_data = df_data[0:train_idx].values\n",
        "val_data = df_data[train_idx:val_idx].values\n",
        "test_data = df_data[val_idx:].values\n",
        "\n",
        "# Normalize data\n",
        "scaler = MinMaxScaler()\n",
        "scaler.fit(train_data)\n",
        "\n",
        "# Used to inverse_transform the labels back\n",
        "label_scaler = MinMaxScaler()\n",
        "label_scaler.fit(train_data[:,-1].reshape(-1, 1))\n",
        "\n",
        "train_data_scaled = scaler.transform(train_data)\n",
        "val_data_scaled = scaler.transform(val_data)\n",
        "test_data_scaled = scaler.transform(test_data)"
      ],
      "metadata": {
        "id": "V3V09Ft0x9Qg"
      },
      "execution_count": null,
      "outputs": []
    },
    {
      "cell_type": "code",
      "source": [
        "train_set = Dataset_ETTh1(train_data_scaled)\n",
        "val_set = Dataset_ETTh1(val_data_scaled)\n",
        "test_set = Dataset_ETTh1(test_data_scaled)\n",
        "\n",
        "train_dataloader = DataLoader(train_set, batch_size=32, shuffle=True)\n",
        "val_dataloader = DataLoader(val_set, batch_size=32, shuffle=False)\n",
        "test_dataloader = DataLoader(test_set, batch_size=32, shuffle=False)"
      ],
      "metadata": {
        "id": "FkfuUHAK07dK"
      },
      "execution_count": null,
      "outputs": []
    },
    {
      "cell_type": "code",
      "source": [
        "# The dataloader with noise added\n",
        "train_noise_set = Dataset_ETTh1(train_data_scaled, gaussian_noise=0.05)\n",
        "train_noise_dataloader = DataLoader(train_noise_set, batch_size=32, shuffle=True)"
      ],
      "metadata": {
        "id": "fdkZ1AF3TjQO"
      },
      "execution_count": null,
      "outputs": []
    },
    {
      "cell_type": "code",
      "source": [
        "len(train_dataloader)"
      ],
      "metadata": {
        "colab": {
          "base_uri": "https://localhost:8080/"
        },
        "id": "l7k3a4MgKIUH",
        "outputId": "e172d8a3-e8a0-42d7-eee8-6617740a0532"
      },
      "execution_count": null,
      "outputs": [
        {
          "output_type": "execute_result",
          "data": {
            "text/plain": [
              "322"
            ]
          },
          "metadata": {},
          "execution_count": 9
        }
      ]
    },
    {
      "cell_type": "markdown",
      "source": [
        "##Neural Network\n"
      ],
      "metadata": {
        "id": "qk6nD3-O4coW"
      }
    },
    {
      "cell_type": "markdown",
      "source": [
        "###RNN"
      ],
      "metadata": {
        "id": "jwiijriL4rQs"
      }
    },
    {
      "cell_type": "markdown",
      "source": [
        "####Model"
      ],
      "metadata": {
        "id": "gReSfbtRJSRV"
      }
    },
    {
      "cell_type": "code",
      "source": [
        "# Define RNN model\n",
        "class RNN(nn.Module):\n",
        "  def __init__(self, input_size, hidden_size, output_size, num_layers, dropout):\n",
        "    super(RNN, self).__init__()\n",
        "    self.hidden_size = hidden_size\n",
        "    self.num_layers = num_layers\n",
        "    self.rnn = nn.RNN(input_size, hidden_size, num_layers, batch_first=True, dropout=dropout)\n",
        "    self.fc = nn.Linear(hidden_size, output_size)\n",
        "        \n",
        "  def forward(self, x):\n",
        "    h0 = torch.zeros(self.num_layers, x.size(0), self.hidden_size).to(x.device)\n",
        "    _, hidden = self.rnn(x, h0)\n",
        "    out = self.fc(hidden[-1, :, :])\n",
        "    return out"
      ],
      "metadata": {
        "id": "Qf8O3xUQ4vX1"
      },
      "execution_count": null,
      "outputs": []
    },
    {
      "cell_type": "markdown",
      "source": [
        "####Training"
      ],
      "metadata": {
        "id": "__YlMOuNJZtp"
      }
    },
    {
      "cell_type": "code",
      "source": [
        "from torch.nn.utils.rnn import pad_sequence"
      ],
      "metadata": {
        "id": "pEkomxk6__vI"
      },
      "execution_count": null,
      "outputs": []
    },
    {
      "cell_type": "code",
      "source": [
        "def training(model, criterion, optimizer, train_loader, val_loader):\n",
        "  # Train RNN model\n",
        "  train_loss_list = []\n",
        "  val_loss_list = []\n",
        "  num_epochs = 5\n",
        "  for epoch in range(num_epochs):\n",
        "    running_loss = 0.0\n",
        "    model.train()\n",
        "    for i, data in enumerate(train_loader):\n",
        "      X, y = data\n",
        "      optimizer.zero_grad()\n",
        "      X_padded = pad_sequence(X, batch_first=True)\n",
        "      y_pred = model(X_padded)\n",
        "      loss = criterion(y_pred, y)\n",
        "      loss.backward()\n",
        "      optimizer.step()\n",
        "      running_loss += loss.item()\n",
        "      if i % 50 == 0:\n",
        "        train_loss_list.append(running_loss / (i+1))\n",
        "\n",
        "        # set model to evaluation mode\n",
        "        model.eval()  \n",
        "        val_loss = 0.0\n",
        "        \n",
        "        with torch.no_grad():\n",
        "          for j, data in enumerate(val_loader):\n",
        "            X, y = data\n",
        "            X_padded = pad_sequence(X, batch_first=True)\n",
        "            y_pred = model(X_padded)\n",
        "            loss = criterion(y_pred, y)\n",
        "            val_loss += loss.item() * X.size(0)\n",
        "          val_loss = val_loss / len(val_loader)\n",
        "          val_loss_list.append(val_loss)\n",
        "      \n",
        "        print('Epoch: {}, {} / {}, Training Loss: {:.4f}, Validation Loss: {:.4f}'.format(epoch+1, i, len(train_dataloader), running_loss / (i+1), val_loss))\n",
        "  return train_loss_list, val_loss_list"
      ],
      "metadata": {
        "id": "ZEMqrtR08nW_"
      },
      "execution_count": null,
      "outputs": []
    },
    {
      "cell_type": "markdown",
      "source": [
        "Train Vanilla RNN without data shifting"
      ],
      "metadata": {
        "id": "oGf6031-Xh4w"
      }
    },
    {
      "cell_type": "code",
      "source": [
        "input_size = 7  \n",
        "hidden_size = 128  \n",
        "output_size = 24\n",
        "num_layers = 2\n",
        "dropout = 0.5\n",
        "RNN_model = RNN(input_size, hidden_size, output_size, num_layers, dropout)\n",
        "\n",
        "# Define loss function and optimizer\n",
        "criterion = nn.MSELoss()\n",
        "optimizer = optim.Adam(RNN_model.parameters(), lr=0.0005)\n",
        "\n",
        "train_loss_list, val_loss_list = training(RNN_model, criterion, optimizer, train_dataloader, val_dataloader)"
      ],
      "metadata": {
        "colab": {
          "base_uri": "https://localhost:8080/"
        },
        "id": "le03qj5hUITO",
        "outputId": "2fbf55af-5951-4d16-f1b9-4f6e8c465ae2"
      },
      "execution_count": null,
      "outputs": [
        {
          "output_type": "stream",
          "name": "stdout",
          "text": [
            "Epoch: 1, 0 / 322, Training Loss: 0.2523, Validation Loss: 1.7662\n",
            "Epoch: 1, 50 / 322, Training Loss: 0.0495, Validation Loss: 1.0556\n",
            "Epoch: 1, 100 / 322, Training Loss: 0.0291, Validation Loss: 0.0760\n",
            "Epoch: 1, 150 / 322, Training Loss: 0.0211, Validation Loss: 0.2650\n",
            "Epoch: 1, 200 / 322, Training Loss: 0.0169, Validation Loss: 0.0655\n",
            "Epoch: 1, 250 / 322, Training Loss: 0.0142, Validation Loss: 0.0519\n",
            "Epoch: 1, 300 / 322, Training Loss: 0.0125, Validation Loss: 0.0594\n",
            "Epoch: 2, 0 / 322, Training Loss: 0.0066, Validation Loss: 0.0589\n",
            "Epoch: 2, 50 / 322, Training Loss: 0.0035, Validation Loss: 0.0642\n",
            "Epoch: 2, 100 / 322, Training Loss: 0.0036, Validation Loss: 0.1502\n",
            "Epoch: 2, 150 / 322, Training Loss: 0.0036, Validation Loss: 0.0629\n",
            "Epoch: 2, 200 / 322, Training Loss: 0.0036, Validation Loss: 0.0854\n",
            "Epoch: 2, 250 / 322, Training Loss: 0.0035, Validation Loss: 0.0503\n",
            "Epoch: 2, 300 / 322, Training Loss: 0.0035, Validation Loss: 0.0544\n",
            "Epoch: 3, 0 / 322, Training Loss: 0.0071, Validation Loss: 0.0583\n",
            "Epoch: 3, 50 / 322, Training Loss: 0.0032, Validation Loss: 0.0667\n",
            "Epoch: 3, 100 / 322, Training Loss: 0.0033, Validation Loss: 0.0654\n",
            "Epoch: 3, 150 / 322, Training Loss: 0.0033, Validation Loss: 0.1125\n",
            "Epoch: 3, 200 / 322, Training Loss: 0.0032, Validation Loss: 0.1191\n",
            "Epoch: 3, 250 / 322, Training Loss: 0.0032, Validation Loss: 0.1157\n",
            "Epoch: 3, 300 / 322, Training Loss: 0.0033, Validation Loss: 0.0544\n",
            "Epoch: 4, 0 / 322, Training Loss: 0.0109, Validation Loss: 0.1188\n",
            "Epoch: 4, 50 / 322, Training Loss: 0.0034, Validation Loss: 0.1506\n",
            "Epoch: 4, 100 / 322, Training Loss: 0.0032, Validation Loss: 0.0699\n",
            "Epoch: 4, 150 / 322, Training Loss: 0.0031, Validation Loss: 0.0815\n",
            "Epoch: 4, 200 / 322, Training Loss: 0.0030, Validation Loss: 0.0896\n",
            "Epoch: 4, 250 / 322, Training Loss: 0.0030, Validation Loss: 0.1000\n",
            "Epoch: 4, 300 / 322, Training Loss: 0.0030, Validation Loss: 0.1546\n",
            "Epoch: 5, 0 / 322, Training Loss: 0.0066, Validation Loss: 0.1640\n",
            "Epoch: 5, 50 / 322, Training Loss: 0.0031, Validation Loss: 0.0651\n",
            "Epoch: 5, 100 / 322, Training Loss: 0.0030, Validation Loss: 0.0686\n",
            "Epoch: 5, 150 / 322, Training Loss: 0.0030, Validation Loss: 0.0655\n",
            "Epoch: 5, 200 / 322, Training Loss: 0.0031, Validation Loss: 0.1309\n",
            "Epoch: 5, 250 / 322, Training Loss: 0.0030, Validation Loss: 0.0719\n",
            "Epoch: 5, 300 / 322, Training Loss: 0.0030, Validation Loss: 0.0997\n"
          ]
        }
      ]
    },
    {
      "cell_type": "markdown",
      "source": [
        "Plotting the loss trending"
      ],
      "metadata": {
        "id": "XEz4dFl5ks0l"
      }
    },
    {
      "cell_type": "code",
      "source": [
        "import matplotlib.pyplot as plt\n",
        "\n",
        "plt.plot(range(len(train_loss_list)), train_loss_list, label=\"training\")\n",
        "plt.plot(range(len(val_loss_list)), val_loss_list, label=\"validating\")\n",
        "\n",
        "plt.xlabel('Timestamp')\n",
        "plt.ylabel('Loss')\n",
        "plt.title('Loss trending')\n",
        "plt.legend(loc=\"upper right\")\n",
        "\n",
        "plt.show()"
      ],
      "metadata": {
        "id": "3P7RiDTyFmh6",
        "colab": {
          "base_uri": "https://localhost:8080/",
          "height": 472
        },
        "outputId": "964caf8f-40fa-48e8-9265-085fe7f11c5e"
      },
      "execution_count": null,
      "outputs": [
        {
          "output_type": "display_data",
          "data": {
            "text/plain": [
              "<Figure size 640x480 with 1 Axes>"
            ],
            "image/png": "[encoded data removed]"
          },
          "metadata": {}
        }
      ]
    },
    {
      "cell_type": "markdown",
      "source": [
        "####Testing"
      ],
      "metadata": {
        "id": "UMpMHXK9JjYf"
      }
    },
    {
      "cell_type": "code",
      "source": [
        "def testing(model, criterion, test_loader):\n",
        "  model.eval()  # set model to evaluation mode\n",
        "  test_loss = 0.0\n",
        "  y_pred_list = []\n",
        "  y_gt_list = []\n",
        "  with torch.no_grad():\n",
        "    for x, y in test_loader:\n",
        "      x_padded = pad_sequence(x, batch_first=True)\n",
        "      y_pred = model(x_padded)\n",
        "      loss = criterion(y_pred, y)\n",
        "      test_loss += loss.item() * x.size(0)\n",
        "\n",
        "      # y_pred = label_scaler.inverse_transform(y_pred.numpy())\n",
        "      # y = label_scaler.inverse_transform(y.numpy())\n",
        "\n",
        "      y_pred_list.append(y_pred)\n",
        "      y_gt_list.append(y)\n",
        "    test_loss = test_loss / len(test_loader)\n",
        "\n",
        "  print('Test Loss: {:.4f}'.format(test_loss))\n",
        "  return y_pred_list, y_gt_list"
      ],
      "metadata": {
        "id": "9b1iO4Kn3bf5"
      },
      "execution_count": null,
      "outputs": []
    },
    {
      "cell_type": "code",
      "source": [
        "y_pred_list, y_gt_list = testing(RNN_model, criterion, test_dataloader)"
      ],
      "metadata": {
        "colab": {
          "base_uri": "https://localhost:8080/"
        },
        "id": "hYrhf7hoV-Ws",
        "outputId": "13281647-e3e9-4955-9e49-269d42a253a2"
      },
      "execution_count": null,
      "outputs": [
        {
          "output_type": "stream",
          "name": "stdout",
          "text": [
            "Test Loss: 0.0727\n"
          ]
        }
      ]
    },
    {
      "cell_type": "code",
      "source": [
        "plt.plot(range(24), y_pred_list[0][0], label=\"prediction\")\n",
        "plt.plot(range(24), y_gt_list[0][0], label=\"ground truth\")\n",
        "\n",
        "plt.xlabel('Timestamp')\n",
        "plt.ylabel('Target')\n",
        "plt.ylim([0, 0.3])\n",
        "plt.title('Comparison between prediction and groundtruth')\n",
        "plt.legend(loc=\"upper left\")"
      ],
      "metadata": {
        "id": "LgfjzcWEGmOs",
        "colab": {
          "base_uri": "https://localhost:8080/",
          "height": 490
        },
        "outputId": "942c9009-b678-4587-a2a0-7737105c96b3"
      },
      "execution_count": null,
      "outputs": [
        {
          "output_type": "execute_result",
          "data": {
            "text/plain": [
              "<matplotlib.legend.Legend at 0x7f73781e17c0>"
            ]
          },
          "metadata": {},
          "execution_count": 166
        },
        {
          "output_type": "display_data",
          "data": {
            "text/plain": [
              "<Figure size 640x480 with 1 Axes>"
            ],
            "image/png": "[encoded data removed]"
          },
          "metadata": {}
        }
      ]
    },
    {
      "cell_type": "markdown",
      "source": [
        "### Adding Data Shifting"
      ],
      "metadata": {
        "id": "xmOifjhxX8yj"
      }
    },
    {
      "cell_type": "code",
      "source": [
        "input_size = 7  \n",
        "hidden_size = 128  \n",
        "output_size = 24\n",
        "num_layers = 2 \n",
        "dropout = 0.5\n",
        "RNN_model_2 = RNN(input_size, hidden_size, output_size, num_layers, dropout)\n",
        "\n",
        "# Define loss function and optimizer\n",
        "criterion = nn.MSELoss()\n",
        "optimizer = optim.Adam(RNN_model_2.parameters(), lr=0.0005)\n",
        "\n",
        "train_loss_list, val_loss_list = training(RNN_model_2, criterion, optimizer, train_noise_dataloader, val_dataloader)"
      ],
      "metadata": {
        "colab": {
          "base_uri": "https://localhost:8080/"
        },
        "id": "Q53CSxJa-sGm",
        "outputId": "805f838e-dfa7-48c9-a824-9cacf533fe59"
      },
      "execution_count": null,
      "outputs": [
        {
          "output_type": "stream",
          "name": "stdout",
          "text": [
            "Epoch: 1, 0 / 322, Training Loss: 0.2123, Validation Loss: 1.4837\n",
            "Epoch: 1, 50 / 322, Training Loss: 0.0464, Validation Loss: 1.9306\n",
            "Epoch: 1, 100 / 322, Training Loss: 0.0291, Validation Loss: 0.2689\n",
            "Epoch: 1, 150 / 322, Training Loss: 0.0220, Validation Loss: 0.0686\n",
            "Epoch: 1, 200 / 322, Training Loss: 0.0184, Validation Loss: 0.0635\n",
            "Epoch: 1, 250 / 322, Training Loss: 0.0160, Validation Loss: 0.0534\n",
            "Epoch: 1, 300 / 322, Training Loss: 0.0145, Validation Loss: 0.0584\n",
            "Epoch: 2, 0 / 322, Training Loss: 0.0085, Validation Loss: 0.0546\n",
            "Epoch: 2, 50 / 322, Training Loss: 0.0067, Validation Loss: 0.0659\n",
            "Epoch: 2, 100 / 322, Training Loss: 0.0069, Validation Loss: 0.1295\n",
            "Epoch: 2, 150 / 322, Training Loss: 0.0068, Validation Loss: 0.0565\n",
            "Epoch: 2, 200 / 322, Training Loss: 0.0067, Validation Loss: 0.0513\n",
            "Epoch: 2, 250 / 322, Training Loss: 0.0065, Validation Loss: 0.0626\n",
            "Epoch: 2, 300 / 322, Training Loss: 0.0065, Validation Loss: 0.0531\n",
            "Epoch: 3, 0 / 322, Training Loss: 0.0099, Validation Loss: 0.0492\n",
            "Epoch: 3, 50 / 322, Training Loss: 0.0064, Validation Loss: 0.1219\n",
            "Epoch: 3, 100 / 322, Training Loss: 0.0064, Validation Loss: 0.0640\n",
            "Epoch: 3, 150 / 322, Training Loss: 0.0063, Validation Loss: 0.0590\n",
            "Epoch: 3, 200 / 322, Training Loss: 0.0062, Validation Loss: 0.0859\n",
            "Epoch: 3, 250 / 322, Training Loss: 0.0062, Validation Loss: 0.0497\n",
            "Epoch: 3, 300 / 322, Training Loss: 0.0062, Validation Loss: 0.0808\n",
            "Epoch: 4, 0 / 322, Training Loss: 0.0074, Validation Loss: 0.1978\n",
            "Epoch: 4, 50 / 322, Training Loss: 0.0063, Validation Loss: 0.1736\n",
            "Epoch: 4, 100 / 322, Training Loss: 0.0061, Validation Loss: 0.1083\n",
            "Epoch: 4, 150 / 322, Training Loss: 0.0061, Validation Loss: 0.0696\n",
            "Epoch: 4, 200 / 322, Training Loss: 0.0060, Validation Loss: 0.1247\n",
            "Epoch: 4, 250 / 322, Training Loss: 0.0060, Validation Loss: 0.1834\n",
            "Epoch: 4, 300 / 322, Training Loss: 0.0060, Validation Loss: 0.2269\n",
            "Epoch: 5, 0 / 322, Training Loss: 0.0078, Validation Loss: 0.0754\n",
            "Epoch: 5, 50 / 322, Training Loss: 0.0059, Validation Loss: 0.0894\n",
            "Epoch: 5, 100 / 322, Training Loss: 0.0058, Validation Loss: 0.1234\n",
            "Epoch: 5, 150 / 322, Training Loss: 0.0058, Validation Loss: 0.1420\n",
            "Epoch: 5, 200 / 322, Training Loss: 0.0058, Validation Loss: 0.2210\n",
            "Epoch: 5, 250 / 322, Training Loss: 0.0058, Validation Loss: 0.1079\n",
            "Epoch: 5, 300 / 322, Training Loss: 0.0059, Validation Loss: 0.0574\n"
          ]
        }
      ]
    },
    {
      "cell_type": "code",
      "source": [
        "y_pred_list, y_gt_list = testing(RNN_model_2, criterion, test_dataloader)"
      ],
      "metadata": {
        "colab": {
          "base_uri": "https://localhost:8080/"
        },
        "id": "uuReOa8FYFlf",
        "outputId": "9e3b3421-c160-4039-b132-b24afed1780f"
      },
      "execution_count": null,
      "outputs": [
        {
          "output_type": "stream",
          "name": "stdout",
          "text": [
            "Test Loss: 0.1179\n"
          ]
        }
      ]
    },
    {
      "cell_type": "markdown",
      "source": [
        "##Linear Regression"
      ],
      "metadata": {
        "id": "_VrSjPTikw4W"
      }
    },
    {
      "cell_type": "markdown",
      "source": [
        "**Data Preprocess**"
      ],
      "metadata": {
        "id": "K_zRZaLSkHjq"
      }
    },
    {
      "cell_type": "code",
      "source": [
        "X = []\n",
        "y = []\n",
        "lr_train_dataloader = DataLoader(train_set, batch_size=1, shuffle=True)\n",
        "for batch in lr_train_dataloader:\n",
        "  X_batch, y_batch = batch\n",
        "  X.append(X_batch.numpy().reshape([1, -1]))\n",
        "  y.append(y_batch.numpy().reshape([1, -1]))\n",
        "x_train = np.concatenate(X)\n",
        "y_train = np.concatenate(y)"
      ],
      "metadata": {
        "id": "U6APDS2WZa2K"
      },
      "execution_count": null,
      "outputs": []
    },
    {
      "cell_type": "code",
      "source": [
        "x_train.shape"
      ],
      "metadata": {
        "colab": {
          "base_uri": "https://localhost:8080/"
        },
        "id": "LuTS9FIsfjpB",
        "outputId": "394766b4-15c5-46f2-e070-9011d6fffd09"
      },
      "execution_count": null,
      "outputs": [
        {
          "output_type": "execute_result",
          "data": {
            "text/plain": [
              "(10285, 1008)"
            ]
          },
          "metadata": {},
          "execution_count": 11
        }
      ]
    },
    {
      "cell_type": "code",
      "source": [
        "X = []\n",
        "y = []\n",
        "lr_test_dataloader = DataLoader(test_set, batch_size=1, shuffle=False)\n",
        "for batch in lr_test_dataloader:\n",
        "  X_batch, y_batch = batch\n",
        "  X.append(X_batch.numpy().reshape([1, -1]))\n",
        "  y.append(y_batch.numpy())\n",
        "\n",
        "x_test = np.concatenate(X)\n",
        "y_test = np.concatenate(y)"
      ],
      "metadata": {
        "id": "h9jPGXGQe89s"
      },
      "execution_count": null,
      "outputs": []
    },
    {
      "cell_type": "code",
      "source": [
        "x_test.shape"
      ],
      "metadata": {
        "colab": {
          "base_uri": "https://localhost:8080/"
        },
        "id": "jT8R3L1CgZbq",
        "outputId": "c0650df1-bb1d-4b70-c3a7-cdf947c7f493"
      },
      "execution_count": null,
      "outputs": [
        {
          "output_type": "execute_result",
          "data": {
            "text/plain": [
              "(3317, 1008)"
            ]
          },
          "metadata": {},
          "execution_count": 13
        }
      ]
    },
    {
      "cell_type": "markdown",
      "source": [
        "**Linear Regression without Regularization**"
      ],
      "metadata": {
        "id": "mzU41sE6kMkK"
      }
    },
    {
      "cell_type": "code",
      "source": [
        "from sklearn.linear_model import LinearRegression \n",
        "from sklearn.linear_model import Ridge\n",
        "from sklearn.linear_model import Lasso\n",
        "from sklearn.linear_model import ElasticNet\n",
        "from sklearn import metrics"
      ],
      "metadata": {
        "id": "pKZq7Iaok1kI"
      },
      "execution_count": null,
      "outputs": []
    },
    {
      "cell_type": "code",
      "source": [
        "reg = LinearRegression() \n",
        "reg.fit(x_train, y_train) \n",
        "y_train_pred = reg.predict(x_train) \n",
        "y_test_pred = reg.predict(x_test) \n",
        "\n",
        "train_r2 = metrics.r2_score(y_train, y_train_pred)\n",
        "train_mse = metrics.mean_squared_error(y_train, y_train_pred)\n",
        "\n",
        "test_r2 = metrics.r2_score(y_test, y_test_pred)\n",
        "test_mse = metrics.mean_squared_error(y_test, y_test_pred)"
      ],
      "metadata": {
        "id": "IPEjnVkpmLPC"
      },
      "execution_count": null,
      "outputs": []
    },
    {
      "cell_type": "code",
      "source": [
        "print(\"The R2 of training data is \" + str(train_r2))\n",
        "print(\"The R2 of testing data is \" + str(test_r2))\n",
        "print(\"The MSE of training data is \" + str(train_mse))\n",
        "print(\"The MSE of testing data is \" + str(test_mse))\n",
        "print('Training Accuracy: {}'.format(reg.score(x_train, y_train)))\n",
        "print('Test Accuracy: {}'.format(reg.score(x_test, y_test)))"
      ],
      "metadata": {
        "colab": {
          "base_uri": "https://localhost:8080/"
        },
        "id": "V2oPs9hYpQ5G",
        "outputId": "d4ec2880-3f2b-4f99-da3a-c8efc1afeb49"
      },
      "execution_count": null,
      "outputs": [
        {
          "output_type": "stream",
          "name": "stdout",
          "text": [
            "The R2 of training data is 0.9250185966325354\n",
            "The R2 of testing data is 0.6535817997273295\n",
            "The MSE of training data is 0.0021519356\n",
            "The MSE of testing data is 0.0015625566\n",
            "Training Accuracy: 0.9250185966325354\n",
            "Test Accuracy: 0.6535817997273295\n"
          ]
        }
      ]
    },
    {
      "cell_type": "code",
      "source": [
        "plt.plot(range(24), y_test_pred[0], label=\"prediction\")\n",
        "plt.plot(range(24), y_test[0], label=\"ground truth\")\n",
        "\n",
        "plt.xlabel('Timestamp')\n",
        "plt.ylabel('Target')\n",
        "plt.ylim([0, 0.3])\n",
        "plt.title('Comparison between prediction and groundtruth')\n",
        "plt.legend(loc=\"upper left\")"
      ],
      "metadata": {
        "colab": {
          "base_uri": "https://localhost:8080/",
          "height": 490
        },
        "id": "OrYpdT4Pp0bR",
        "outputId": "1aacaf04-8db4-455d-a298-7b9a49c1c40b"
      },
      "execution_count": null,
      "outputs": [
        {
          "output_type": "execute_result",
          "data": {
            "text/plain": [
              "<matplotlib.legend.Legend at 0x7f7378f89220>"
            ]
          },
          "metadata": {},
          "execution_count": 168
        },
        {
          "output_type": "display_data",
          "data": {
            "text/plain": [
              "<Figure size 640x480 with 1 Axes>"
            ],
            "image/png": "[encoded data removed]"
          },
          "metadata": {}
        }
      ]
    },
    {
      "cell_type": "markdown",
      "source": [
        "**Linear Regression With Ridge Regularization**"
      ],
      "metadata": {
        "id": "lQmfZZskkR9S"
      }
    },
    {
      "cell_type": "code",
      "source": [
        "ridge = Ridge() \n",
        "ridge.fit(x_train, y_train) \n",
        "y_train_pred = ridge.predict(x_train) \n",
        "y_test_pred = ridge.predict(x_test) \n",
        "\n",
        "train_r2 = metrics.r2_score(y_train, y_train_pred)\n",
        "train_rmse = np.sqrt(metrics.mean_squared_error(y_train, y_train_pred))\n",
        "\n",
        "test_r2 = metrics.r2_score(y_test, y_test_pred)\n",
        "test_rmse = np.sqrt(metrics.mean_squared_error(y_test, y_test_pred))"
      ],
      "metadata": {
        "id": "aniYwJiVkV3v"
      },
      "execution_count": null,
      "outputs": []
    },
    {
      "cell_type": "code",
      "source": [
        "print(\"The R2 of training data is \" + str(train_r2))\n",
        "print(\"The R2 of testing data is \" + str(test_r2))\n",
        "print(\"The RMSE of training data is \" + str(train_rmse))\n",
        "print(\"The RMSE of testing data is \" + str(test_rmse))\n",
        "print('Training Accuracy: {}'.format(ridge.score(x_train, y_train)))\n",
        "print('Test Accuracy: {}'.format(ridge.score(x_test, y_test)))"
      ],
      "metadata": {
        "colab": {
          "base_uri": "https://localhost:8080/"
        },
        "id": "PxGK19gxkYns",
        "outputId": "ecf1a926-289f-47ba-ba0a-6448c0bb86b0"
      },
      "execution_count": null,
      "outputs": [
        {
          "output_type": "stream",
          "name": "stdout",
          "text": [
            "The R2 of training data is 0.9245586973098862\n",
            "The R2 of testing data is 0.6608908058761013\n",
            "The RMSE of training data is 0.046531145\n",
            "The RMSE of testing data is 0.03911027\n",
            "Training Accuracy: 0.9245586973098862\n",
            "Test Accuracy: 0.6608908058761013\n"
          ]
        }
      ]
    },
    {
      "cell_type": "markdown",
      "source": [
        "## Classification"
      ],
      "metadata": {
        "id": "1YucLHiPvB-K"
      }
    },
    {
      "cell_type": "code",
      "source": [
        "df"
      ],
      "metadata": {
        "id": "cYu24asnu3hr"
      },
      "execution_count": null,
      "outputs": []
    },
    {
      "cell_type": "code",
      "source": [
        "for i in range(10):\n",
        "  print(\"The \" + str(10*i) + \" percent quantile of price is \" + str(round(df['OT'].quantile(i/10),2)))"
      ],
      "metadata": {
        "colab": {
          "base_uri": "https://localhost:8080/"
        },
        "id": "eeJdTC5XvI8X",
        "outputId": "50450456-16a9-4be8-9412-6d3f1839dd11"
      },
      "execution_count": null,
      "outputs": [
        {
          "output_type": "stream",
          "name": "stdout",
          "text": [
            "The 0 percent quantile of price is -4.08\n",
            "The 10 percent quantile of price is 4.01\n",
            "The 20 percent quantile of price is 6.05\n",
            "The 30 percent quantile of price is 8.02\n",
            "The 40 percent quantile of price is 9.78\n",
            "The 50 percent quantile of price is 11.4\n",
            "The 60 percent quantile of price is 13.79\n",
            "The 70 percent quantile of price is 16.6\n",
            "The 80 percent quantile of price is 19.77\n",
            "The 90 percent quantile of price is 24.62\n"
          ]
        }
      ]
    },
    {
      "cell_type": "code",
      "source": [
        "df[\"OT\"].max()"
      ],
      "metadata": {
        "colab": {
          "base_uri": "https://localhost:8080/"
        },
        "id": "qQFDjZY7vOG1",
        "outputId": "01c5b4ec-8605-4aff-ae56-6bb7efcc6ae2"
      },
      "execution_count": null,
      "outputs": [
        {
          "output_type": "execute_result",
          "data": {
            "text/plain": [
              "46.00699996948242"
            ]
          },
          "metadata": {},
          "execution_count": 46
        }
      ]
    },
    {
      "cell_type": "code",
      "source": [
        "#divide oil temperature into groups by percentile\n",
        "c1 = df['OT'].quantile(0.25)\n",
        "c2 = df['OT'].quantile(0.50)\n",
        "c3 = df['OT'].quantile(0.75)\n",
        "def divide_OT(x):\n",
        "  if x < c1:\n",
        "    return 0\n",
        "  elif x < c2:\n",
        "    return 1\n",
        "  elif x < c3:\n",
        "    return 2\n",
        "  else:\n",
        "    return 3\n",
        "df[\"OT_group\"] = df[\"OT\"].apply(divide_OT).astype(\"float\")"
      ],
      "metadata": {
        "id": "w1tG73OtvUPM"
      },
      "execution_count": null,
      "outputs": []
    },
    {
      "cell_type": "code",
      "source": [
        "features = df.drop(columns = [\"date\",\"OT\",\"OT_group\"])\n",
        "OT_group = df[\"OT_group\"]\n",
        "seed = 42\n",
        "random_state = seed\n",
        "x_train, x_test, y_train, y_test = train_test_split(features, OT_group, test_size = 0.20, random_state=seed)"
      ],
      "metadata": {
        "id": "BSjyaz9Evlbm"
      },
      "execution_count": null,
      "outputs": []
    },
    {
      "cell_type": "code",
      "source": [
        "#Standarization and PCA\n",
        "scaler = StandardScaler()\n",
        "scaler.fit(x_train)\n",
        "scaled_x_train = scaler.transform(x_train)\n",
        "scaled_x_test = scaler.transform(x_test)\n",
        "\n",
        "pca = PCA(n_components=scaled_x_train.shape[1])\n",
        "pca_x_train = pca.fit_transform(scaled_x_train)"
      ],
      "metadata": {
        "id": "FC4EwK09wI91"
      },
      "execution_count": null,
      "outputs": []
    },
    {
      "cell_type": "code",
      "source": [
        "explained_variance_ratios =pca.explained_variance_ratio_\n",
        "cum_evr = np.cumsum(pca.explained_variance_ratio_)"
      ],
      "metadata": {
        "id": "Q9oIG5nvwSJc"
      },
      "execution_count": null,
      "outputs": []
    },
    {
      "cell_type": "code",
      "source": [
        "plt.figure(figsize=(15,10))\n",
        "n = scaled_x_train.shape[1]\n",
        "p = plt.plot(np.arange(1,7),cum_evr)\n",
        "plt.plot(np.arange(1,13), [0.95]*12)\n",
        "plt.title('explained_variance_ratio v.s number of component')\n",
        "plt.xlabel('number of component')\n",
        "plt.ylabel('explained_variance_ratio')"
      ],
      "metadata": {
        "id": "XEKq9oq-wWsI"
      },
      "execution_count": null,
      "outputs": []
    },
    {
      "cell_type": "code",
      "source": [
        "pca = PCA(n_components = 4)\n",
        "x_train_pca = pca.fit_transform(scaled_x_train)\n",
        "x_test_pca = pca.transform(scaled_x_test)"
      ],
      "metadata": {
        "id": "oLmoF_sBwcWh"
      },
      "execution_count": null,
      "outputs": []
    },
    {
      "cell_type": "code",
      "source": [
        "from sklearn.linear_model import LogisticRegression"
      ],
      "metadata": {
        "id": "B5FBE4umwuqQ"
      },
      "execution_count": null,
      "outputs": []
    },
    {
      "cell_type": "code",
      "source": [
        "log_reg_pca=LogisticRegression(penalty=\"l2\",solver='liblinear')\n",
        "log_reg_pca.fit(x_train_pca,y_train)\n",
        "y_pred = log_reg_pca.predict(x_test_pca)\n",
        "acc_reg_train = log_reg_pca.score(x_train_pca,y_train)\n",
        "acc_reg_test = log_reg_pca.score(x_test_pca,y_test)"
      ],
      "metadata": {
        "id": "MEQC59-Xwnej"
      },
      "execution_count": null,
      "outputs": []
    },
    {
      "cell_type": "code",
      "source": [
        "print('Train Accuracy: '+ str(acc_reg_train))\n",
        "print('Test Accuracy: '+ str(acc_reg_test))"
      ],
      "metadata": {
        "colab": {
          "base_uri": "https://localhost:8080/"
        },
        "id": "MMMN0fMQwoAz",
        "outputId": "7f8e08a6-e6c1-4d97-fe1f-b0a0362dea1b"
      },
      "execution_count": null,
      "outputs": [
        {
          "output_type": "stream",
          "name": "stdout",
          "text": [
            "Train Accuracy: 0.35376004592422505\n",
            "Test Accuracy: 0.3567738231917336\n"
          ]
        }
      ]
    },
    {
      "cell_type": "markdown",
      "source": [
        "## Random Forest"
      ],
      "metadata": {
        "id": "CPHzrA-NxNgG"
      }
    },
    {
      "cell_type": "code",
      "source": [
        "from sklearn.ensemble import RandomForestClassifier"
      ],
      "metadata": {
        "id": "N9BY0LecxWAq"
      },
      "execution_count": null,
      "outputs": []
    },
    {
      "cell_type": "code",
      "source": [
        "rf = RandomForestClassifier(n_estimators = 15, max_depth = 15)\n",
        "rf.fit(x_train, y_train)\n",
        "train_pred_rf = rf.predict(x_train) \n",
        "test_pred_rf = rf.predict(x_test)"
      ],
      "metadata": {
        "id": "RTw2P7dtyRtC"
      },
      "execution_count": null,
      "outputs": []
    },
    {
      "cell_type": "code",
      "source": [
        "acc_rf_train=rf.score(x_train,y_train)\n",
        "acc_rf_test=rf.score(x_test,y_test)\n",
        "print('Train Accuracy: '+ str(acc_rf_train))\n",
        "print('Test Accuracy: ' + str(acc_rf_test))"
      ],
      "metadata": {
        "colab": {
          "base_uri": "https://localhost:8080/"
        },
        "id": "BsJI3mYxyzOq",
        "outputId": "8954b9cd-39dd-47c1-fa30-a0531a16154c"
      },
      "execution_count": null,
      "outputs": [
        {
          "output_type": "stream",
          "name": "stdout",
          "text": [
            "Train Accuracy: 0.8987514351320322\n",
            "Test Accuracy: 0.5315729047072331\n"
          ]
        }
      ]
    },
    {
      "cell_type": "markdown",
      "source": [
        "## KNN"
      ],
      "metadata": {
        "id": "QSgtQOVg1jmm"
      }
    },
    {
      "cell_type": "code",
      "source": [
        "from sklearn.neighbors import KNeighborsClassifier\n",
        "from sklearn.metrics import accuracy_score"
      ],
      "metadata": {
        "id": "QPXakt6a1myN"
      },
      "execution_count": null,
      "outputs": []
    },
    {
      "cell_type": "code",
      "source": [
        "KNN = KNeighborsClassifier(n_neighbors=15, p = 2)\n",
        "KNN.fit(x_train, y_train)\n",
        "y_test = KNN.predict(x_test)\n",
        "accuracy = accuracy_score(y_test, y_pred)\n",
        "print(\"Accuracy:\", accuracy)"
      ],
      "metadata": {
        "colab": {
          "base_uri": "https://localhost:8080/"
        },
        "id": "njw8Cp4f1ksj",
        "outputId": "810e0a67-dfb9-4583-9812-7ab82425f8f2"
      },
      "execution_count": null,
      "outputs": [
        {
          "output_type": "stream",
          "name": "stdout",
          "text": [
            "Accuracy: 0.40470723306544204\n"
          ]
        }
      ]
    },
    {
      "cell_type": "code",
      "source": [],
      "metadata": {
        "id": "jFUvFfAS2684"
      },
      "execution_count": null,
      "outputs": []
    }
  ]
}